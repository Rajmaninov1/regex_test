{
  "nbformat": 4,
  "nbformat_minor": 0,
  "metadata": {
    "colab": {
      "name": "prueba_regex.ipynb",
      "provenance": [],
      "collapsed_sections": []
    },
    "kernelspec": {
      "name": "python3",
      "display_name": "Python 3"
    },
    "language_info": {
      "name": "python"
    }
  },
  "cells": [
    {
      "cell_type": "code",
      "metadata": {
        "colab": {
          "base_uri": "https://localhost:8080/"
        },
        "cellView": "form",
        "id": "9i_oLaBJqe6t",
        "outputId": "0872e3cf-2636-486e-cc55-93e096116508"
      },
      "source": [
        "#@title 1. MONTAR EL DRIVE\n",
        "import os\n",
        "from google.colab import drive\n",
        "drive.mount('/content/drive')\n",
        "os.chdir('/content/drive/My Drive/Pruebas')\n",
        "print(os.getcwd())"
      ],
      "execution_count": null,
      "outputs": [
        {
          "output_type": "stream",
          "name": "stdout",
          "text": [
            "Mounted at /content/drive\n",
            "/content/drive/My Drive/Pruebas\n"
          ]
        }
      ]
    },
    {
      "cell_type": "code",
      "metadata": {
        "colab": {
          "base_uri": "https://localhost:8080/"
        },
        "id": "BvYPZrByqwfM",
        "outputId": "136f25fb-7814-4e00-ba8d-d9804c7f6e18"
      },
      "source": [
        "!ls"
      ],
      "execution_count": null,
      "outputs": [
        {
          "output_type": "stream",
          "name": "stdout",
          "text": [
            "'APP MUSICA'\n",
            " Certificado-de-Tradición-y-libertad-predio-La-Suiza-Green-Superfood.pdf\n",
            " prueba_regex.ipynb\n"
          ]
        }
      ]
    },
    {
      "cell_type": "code",
      "metadata": {
        "colab": {
          "base_uri": "https://localhost:8080/"
        },
        "id": "Ld3AUOJXrA60",
        "outputId": "191e8e5a-e695-406a-f359-c7bf1c26eb1a"
      },
      "source": [
        "!pip install tika"
      ],
      "execution_count": null,
      "outputs": [
        {
          "output_type": "stream",
          "name": "stdout",
          "text": [
            "Collecting tika\n",
            "  Downloading tika-1.24.tar.gz (28 kB)\n",
            "Requirement already satisfied: setuptools in /usr/local/lib/python3.7/dist-packages (from tika) (57.4.0)\n",
            "Requirement already satisfied: requests in /usr/local/lib/python3.7/dist-packages (from tika) (2.23.0)\n",
            "Requirement already satisfied: urllib3!=1.25.0,!=1.25.1,<1.26,>=1.21.1 in /usr/local/lib/python3.7/dist-packages (from requests->tika) (1.24.3)\n",
            "Requirement already satisfied: chardet<4,>=3.0.2 in /usr/local/lib/python3.7/dist-packages (from requests->tika) (3.0.4)\n",
            "Requirement already satisfied: certifi>=2017.4.17 in /usr/local/lib/python3.7/dist-packages (from requests->tika) (2021.10.8)\n",
            "Requirement already satisfied: idna<3,>=2.5 in /usr/local/lib/python3.7/dist-packages (from requests->tika) (2.10)\n",
            "Building wheels for collected packages: tika\n",
            "  Building wheel for tika (setup.py) ... \u001b[?25l\u001b[?25hdone\n",
            "  Created wheel for tika: filename=tika-1.24-py3-none-any.whl size=32891 sha256=5f84875c0731086f181cb329a542c3b05337b22ae050417128cbf2658b4e189f\n",
            "  Stored in directory: /root/.cache/pip/wheels/ec/2b/38/58ff05467a742e32f67f5d0de048fa046e764e2fbb25ac93f3\n",
            "Successfully built tika\n",
            "Installing collected packages: tika\n",
            "Successfully installed tika-1.24\n"
          ]
        }
      ]
    },
    {
      "cell_type": "code",
      "metadata": {
        "colab": {
          "base_uri": "https://localhost:8080/"
        },
        "id": "dpRD4Yznq96c",
        "outputId": "3393d703-e9cb-4e50-d069-26ced8fa0de0"
      },
      "source": [
        "from tika import parser # pip install tika\n",
        "\n",
        "raw = parser.from_file('Certificado-de-Tradición-y-libertad-predio-La-Suiza-Green-Superfood.pdf')\n",
        "print(raw['content'])"
      ],
      "execution_count": null,
      "outputs": [
        {
          "output_type": "stream",
          "name": "stderr",
          "text": [
            "2021-11-28 06:18:28,718 [MainThread  ] [INFO ]  Retrieving http://search.maven.org/remotecontent?filepath=org/apache/tika/tika-server/1.24/tika-server-1.24.jar to /tmp/tika-server.jar.\n",
            "2021-11-28 06:18:29,201 [MainThread  ] [INFO ]  Retrieving http://search.maven.org/remotecontent?filepath=org/apache/tika/tika-server/1.24/tika-server-1.24.jar.md5 to /tmp/tika-server.jar.md5.\n",
            "2021-11-28 06:18:29,457 [MainThread  ] [WARNI]  Failed to see startup log message; retrying...\n"
          ]
        },
        {
          "output_type": "stream",
          "name": "stdout",
          "text": [
            "\n",
            "\n",
            "\n",
            "\n",
            "\n",
            "\n",
            "\n",
            "\n",
            "\n",
            "\n",
            "\n",
            "\n",
            "\n",
            "\n",
            "\n",
            "\n",
            "\n",
            "\n",
            "\n",
            "\n",
            "\n",
            "\n",
            "\n",
            "\n",
            "\n",
            "\n",
            "\n",
            "\n",
            "\n",
            "\n",
            "\n",
            "\n",
            "\n",
            "\n",
            "\n",
            "\n",
            "\n",
            "\n",
            "\n",
            "\n",
            "\n",
            "\n",
            "\n",
            "\n",
            "\n",
            "Certificado de Tradición y Libertad\n",
            "\n",
            "\n",
            "La validez de este documento podrá verificarse en la página www.snrbotondepago.gov.co/certificado/\n",
            "\n",
            "Certificado generado con el Pin No: 200902690133437015 Nro Matrícula: 354-1425\n",
            "Pagina 1\n",
            "\n",
            "Impreso el 2 de Septiembre de 2020 a las 11:42:52 AM\n",
            "\n",
            "\"ESTE CERTIFICADO REFLEJA LA SITUACION JURIDICA DEL INMUEBLE\n",
            "\n",
            "HASTA LA FECHA Y HORA DE SU EXPEDICION\" \n",
            "\n",
            "No tiene validez sin la firma del registrador en la ultima página \n",
            "CIRCULO REGISTRAL: 354 - CAJAMARCA  DEPTO: TOLIMA  MUNICIPIO: CAJAMARCA  VEREDA:  ANAIME\n",
            "\n",
            "FECHA APERTURA: 19-01-1983  RADICACIÓN: S/N  CON: OFICIO  DE: 19-01-1983\n",
            "\n",
            "CODIGO CATASTRAL: 731240001000000150001000000000COD CATASTRAL ANT: SIN INFORMACION \n",
            "\n",
            "ESTADO DEL FOLIO: ACTIVO\n",
            " \n",
            "\n",
            "= = = = = = = = = = = = = = = = = = = = = = = = = = = = = = = = = = = = = = = = = = = = = = = = = = = = = = = = = = = = = = = = = = = = = = = = =\n",
            " \n",
            "\n",
            "DESCRIPCION: CABIDA Y LINDEROS\n",
            "\n",
            "DE UNA EXTENSION SUPERFICIARIA APROXIMADA DE CUATROCIENTAS HECTAREAS, (400HAS), ALINDERADO ASI: DESDE EL DESEMBOQUE DE\n",
            "\n",
            "UNA QUEBRADA SIN NOMBRE EN EL RIO ANAIME; ESTE ARRIBA HASTA DONDE SE ENCUENTRA LA DESEMBOCADURA DE LA QUEBRADA EL OSO,\n",
            "\n",
            "ESTE AGUAS ARRIBA HASTA DONDE SE ENCUENTRA LA DESEMBOCADURA DE UNA QUEBRADA LLAMADA EL CONVENIO, ESTA AGUAS ARRIBA\n",
            "\n",
            "HASTA ENCONTRAR EL CAMINO QUE CONDUCE A LA FINCA EL CORAZON; PARTIENDO DE AHI, POR UN FILITO ARRIBA HASTA DONDE MUERE EN\n",
            "\n",
            "UNA CUCHILLA CON ISIDRO TRUJILLO , HOY DE RODOLFO YEPES; CUHILLA ABAJO HASTA ENFRENTAR CON EL NACIMIENTO DE LA QUEBRADA\n",
            "\n",
            "SIN NOMBRE ESTA AGUAS ABAJO HASTA SU CONFLUENCIA CON EL RIO ANAIME, PUNTO DE PARTIDA Y ENCIERRA CON PREDIO DE MARCO\n",
            "\n",
            "ARELLANO.- CON BASE EN LAS SIGUIENTE MATRICULAS: TOMO 6 FOLIO 270., PARTIDA 76.\n",
            "\n",
            "COMPLEMENTACION:\n",
            " \n",
            "\n",
            " \n",
            "\n",
            "SUPERINTENDENCIA DE NOTARIADO Y REGISTRO LA GUARDA DE LA FE PUBLICA OFICINA DE REGISTRO DE INSTRUMENTOS PUBLICOS DE CAJAMARCA ORIP SUPERINTENDENCIA DE NOTARIADO Y REGISTRO LA GUARDA DE LA FE PUBLICA OFICINA DE REGISTRO DE INSTRUMENTOS PUBLICOS DE CAJAMARCA ORIP SUPERINTENDENCIA DE NOTARIADO Y REGISTRO LA GUARDA DE LA FE PUBLICA OFICINA DE REGISTRO DE INSTRUMENTOS PUBLICOS DE CAJAMARCA ORIP SUPERINTENDENCIA DE NOTARIADO Y REGISTRO LA GUARDA DE LA FE PUBLICA OFICINA DE REGISTRO DE INSTRUMENTOS PUBLICOS DE CAJAMARCA ORIP SUPERINTENDENCIA DE NOTARIADO Y REGISTRO LA GUARDA DE LA FE PUBLICA OFICINA DE REGISTRO DE INSTRUMENTOS PUBLICOS DE CAJAMARCA ORIP \n",
            "\n",
            " \n",
            "\n",
            "DIRECCION DEL INMUEBLE\n",
            "\n",
            "Tipo Predio: RURAL\n",
            "\n",
            "1) LA SUIZA\n",
            " \n",
            "\n",
            " \n",
            "\n",
            "SUPERINTENDENCIA DE NOTARIADO Y REGISTRO LA GUARDA DE LA FE PUBLICA OFICINA DE REGISTRO DE INSTRUMENTOS PUBLICOS DE CAJAMARCA ORIP SUPERINTENDENCIA DE NOTARIADO Y REGISTRO LA GUARDA DE LA FE PUBLICA OFICINA DE REGISTRO DE INSTRUMENTOS PUBLICOS DE CAJAMARCA ORIP SUPERINTENDENCIA DE NOTARIADO Y REGISTRO LA GUARDA DE LA FE PUBLICA OFICINA DE REGISTRO DE INSTRUMENTOS PUBLICOS DE CAJAMARCA ORIP SUPERINTENDENCIA DE NOTARIADO Y REGISTRO LA GUARDA DE LA FE PUBLICA OFICINA DE REGISTRO DE INSTRUMENTOS PUBLICOS DE CAJAMARCA ORIP SUPERINTENDENCIA DE NOTARIADO Y REGISTRO LA GUARDA DE LA FE PUBLICA OFICINA DE REGISTRO DE INSTRUMENTOS PUBLICOS DE CAJAMARCA ORIP \n",
            "\n",
            " \n",
            "\n",
            "MATRICULA ABIERTA CON BASE EN LA(s) SIGUIENTE(s) (En caso de integración y otros)\n",
            " \n",
            "\n",
            " \n",
            "\n",
            "SUPERINTENDENCIA DE NOTARIADO Y REGISTRO LA GUARDA DE LA FE PUBLICA OFICINA DE REGISTRO DE INSTRUMENTOS PUBLICOS DE CAJAMARCA ORIP SUPERINTENDENCIA DE NOTARIADO Y REGISTRO LA GUARDA DE LA FE PUBLICA OFICINA DE REGISTRO DE INSTRUMENTOS PUBLICOS DE CAJAMARCA ORIP SUPERINTENDENCIA DE NOTARIADO Y REGISTRO LA GUARDA DE LA FE PUBLICA OFICINA DE REGISTRO DE INSTRUMENTOS PUBLICOS DE CAJAMARCA ORIP SUPERINTENDENCIA DE NOTARIADO Y REGISTRO LA GUARDA DE LA FE PUBLICA OFICINA DE REGISTRO DE INSTRUMENTOS PUBLICOS DE CAJAMARCA ORIP SUPERINTENDENCIA DE NOTARIADO Y REGISTRO LA GUARDA DE LA FE PUBLICA OFICINA DE REGISTRO DE INSTRUMENTOS PUBLICOS DE CAJAMARCA ORIP \n",
            "\n",
            " \n",
            "\n",
            "ANOTACION: Nro 001 Fecha: 30-08-1962 Radicación: S/N\n",
            "\n",
            "Doc: JUICIO DE SUCESION S/N DEL 20-02-1961  JUZGADO PRIMERO CIVIL CTO DE IBAGUE VALOR ACTO: $327,000 \n",
            "ESPECIFICACION: MODO DE ADQUISICION: 150 ADJUDICACION JUICIO SUCESION CON OTROS BIENES MODO DE ADQUISICION \n",
            "PERSONAS QUE INTERVIENEN EN EL ACTO (X-Titular de derecho real de dominio,I-Titular de dominio incompleto) \n",
            "DE: OROZO BONILLA GONZALO      \n",
            "A: OROZO DE OROZCO MARIA LUISA  X    \n",
            "A: OROZO OROZCO BELMER  X    \n",
            "A: OROZO OROZCO MARIA NIDIA  X    \n",
            "A: OROZO OROZCO NOHORA  X    \n",
            "A: OROZO OROZCO TONNY  X    \n",
            " \n",
            "\n",
            " \n",
            "\n",
            "SUPERINTENDENCIA DE NOTARIADO Y REGISTRO LA GUARDA DE LA FE PUBLICA OFICINA DE REGISTRO DE INSTRUMENTOS PUBLICOS DE CAJAMARCA ORIP SUPERINTENDENCIA DE NOTARIADO Y REGISTRO LA GUARDA DE LA FE PUBLICA OFICINA DE REGISTRO DE INSTRUMENTOS PUBLICOS DE CAJAMARCA ORIP SUPERINTENDENCIA DE NOTARIADO Y REGISTRO LA GUARDA DE LA FE PUBLICA OFICINA DE REGISTRO DE INSTRUMENTOS PUBLICOS DE CAJAMARCA ORIP SUPERINTENDENCIA DE NOTARIADO Y REGISTRO LA GUARDA DE LA FE PUBLICA OFICINA DE REGISTRO DE INSTRUMENTOS PUBLICOS DE CAJAMARCA ORIP SUPERINTENDENCIA DE NOTARIADO Y REGISTRO LA GUARDA DE LA FE PUBLICA OFICINA DE REGISTRO DE INSTRUMENTOS PUBLICOS DE CAJAMARCA ORIP \n",
            "\n",
            " \n",
            "\n",
            "ANOTACION: Nro 002 Fecha: 27-10-1967 Radicación: S/N\n",
            "\n",
            "Doc: ESCRITURA 2050 DEL 24-10-1967  NOTARIA SEGUNDA DE IBAGUE VALOR ACTO: $628,700 \n",
            "ESPECIFICACION: MODO DE ADQUISICION: 106 ADJUDICACION LIQUIDACION DE LA COMUNIDAD MODO DE ADQUISICION \n",
            "PERSONAS QUE INTERVIENEN EN EL ACTO (X-Titular de derecho real de dominio,I-Titular de dominio incompleto) \n",
            "DE: OROZCO DE AGUILERA TONNY      \n",
            "DE: OROZCO DE ARENLANO NIDIA      \n",
            "DE: OROZCO DE ECHAVARRIA NOHORA      \n",
            "DE: OROZCO OROZCO JOSE  BELMER      \n",
            "\n",
            "OFICINA DE REGISTRO DE INSTRUMENTOS PUBLICOS DE CAJAMARCA\n",
            "\n",
            "CERTIFICADO DE TRADICION\n",
            "\n",
            "MATRICULA INMOBILIARIA\n",
            "\n",
            "\n",
            "\n",
            "La validez de este documento podrá verificarse en la página www.snrbotondepago.gov.co/certificado/\n",
            "\n",
            "Certificado generado con el Pin No: 200902690133437015 Nro Matrícula: 354-1425\n",
            "Pagina 2\n",
            "\n",
            "Impreso el 2 de Septiembre de 2020 a las 11:42:52 AM\n",
            "\n",
            "\"ESTE CERTIFICADO REFLEJA LA SITUACION JURIDICA DEL INMUEBLE\n",
            "\n",
            "HASTA LA FECHA Y HORA DE SU EXPEDICION\" \n",
            "\n",
            "No tiene validez sin la firma del registrador en la ultima página \n",
            "\n",
            "A: OROZCO VDA DE OROZCO MARIA LUISA  X    \n",
            " \n",
            "\n",
            " \n",
            "\n",
            "SUPERINTENDENCIA DE NOTARIADO Y REGISTRO LA GUARDA DE LA FE PUBLICA OFICINA DE REGISTRO DE INSTRUMENTOS PUBLICOS DE CAJAMARCA ORIP SUPERINTENDENCIA DE NOTARIADO Y REGISTRO LA GUARDA DE LA FE PUBLICA OFICINA DE REGISTRO DE INSTRUMENTOS PUBLICOS DE CAJAMARCA ORIP SUPERINTENDENCIA DE NOTARIADO Y REGISTRO LA GUARDA DE LA FE PUBLICA OFICINA DE REGISTRO DE INSTRUMENTOS PUBLICOS DE CAJAMARCA ORIP SUPERINTENDENCIA DE NOTARIADO Y REGISTRO LA GUARDA DE LA FE PUBLICA OFICINA DE REGISTRO DE INSTRUMENTOS PUBLICOS DE CAJAMARCA ORIP SUPERINTENDENCIA DE NOTARIADO Y REGISTRO LA GUARDA DE LA FE PUBLICA OFICINA DE REGISTRO DE INSTRUMENTOS PUBLICOS DE CAJAMARCA ORIP \n",
            "\n",
            " \n",
            "\n",
            "ANOTACION: Nro 003 Fecha: 23-11-1974 Radicación: S/N\n",
            "\n",
            "Doc: ESCRITURA 3176 DEL 31-10-1974  NOTARIA SEGUNDA DE IBAGUE VALOR ACTO: $1,500,000 \n",
            "ESPECIFICACION: MODO DE ADQUISICION: 101 COMPRAVENTA MODO DE ADQUISICION \n",
            "PERSONAS QUE INTERVIENEN EN EL ACTO (X-Titular de derecho real de dominio,I-Titular de dominio incompleto) \n",
            "DE: OROZCO VDA DE OROZCO MARIA LUISA      \n",
            "A: GAITAN OSPINA RICARDO  X    \n",
            " \n",
            "\n",
            " \n",
            "\n",
            "SUPERINTENDENCIA DE NOTARIADO Y REGISTRO LA GUARDA DE LA FE PUBLICA OFICINA DE REGISTRO DE INSTRUMENTOS PUBLICOS DE CAJAMARCA ORIP SUPERINTENDENCIA DE NOTARIADO Y REGISTRO LA GUARDA DE LA FE PUBLICA OFICINA DE REGISTRO DE INSTRUMENTOS PUBLICOS DE CAJAMARCA ORIP SUPERINTENDENCIA DE NOTARIADO Y REGISTRO LA GUARDA DE LA FE PUBLICA OFICINA DE REGISTRO DE INSTRUMENTOS PUBLICOS DE CAJAMARCA ORIP SUPERINTENDENCIA DE NOTARIADO Y REGISTRO LA GUARDA DE LA FE PUBLICA OFICINA DE REGISTRO DE INSTRUMENTOS PUBLICOS DE CAJAMARCA ORIP SUPERINTENDENCIA DE NOTARIADO Y REGISTRO LA GUARDA DE LA FE PUBLICA OFICINA DE REGISTRO DE INSTRUMENTOS PUBLICOS DE CAJAMARCA ORIP \n",
            "\n",
            " \n",
            "\n",
            "ANOTACION: Nro 004 Fecha: 13-09-1976 Radicación: S/N\n",
            "\n",
            "Doc: ESCRITURA 180 DEL 11-09-1976  NOTARIA UNICA DE CAJAMARCA VALOR ACTO: $2,000,000 \n",
            "ESPECIFICACION: LIMITACION AL DOMINIO: 351 COMPRAVENTA PROINDIVISO MODO DE ADQUISICION \n",
            "PERSONAS QUE INTERVIENEN EN EL ACTO (X-Titular de derecho real de dominio,I-Titular de dominio incompleto) \n",
            "DE: GAITAN OSPINA RICARDO      \n",
            "A: YEPES DE RICAURTE MARIA RUBIELINA  X    \n",
            "A: YEPES MENESES ALBEIRO  X    \n",
            "A: YEPES MENESES AMALIA  X    \n",
            "A: YEPES MENESES ANA MARGOTH  X    \n",
            "A: YEPES MENESES RODOLFO ARTURO  X    \n",
            " \n",
            "\n",
            " \n",
            "\n",
            "SUPERINTENDENCIA DE NOTARIADO Y REGISTRO LA GUARDA DE LA FE PUBLICA OFICINA DE REGISTRO DE INSTRUMENTOS PUBLICOS DE CAJAMARCA ORIP SUPERINTENDENCIA DE NOTARIADO Y REGISTRO LA GUARDA DE LA FE PUBLICA OFICINA DE REGISTRO DE INSTRUMENTOS PUBLICOS DE CAJAMARCA ORIP SUPERINTENDENCIA DE NOTARIADO Y REGISTRO LA GUARDA DE LA FE PUBLICA OFICINA DE REGISTRO DE INSTRUMENTOS PUBLICOS DE CAJAMARCA ORIP SUPERINTENDENCIA DE NOTARIADO Y REGISTRO LA GUARDA DE LA FE PUBLICA OFICINA DE REGISTRO DE INSTRUMENTOS PUBLICOS DE CAJAMARCA ORIP SUPERINTENDENCIA DE NOTARIADO Y REGISTRO LA GUARDA DE LA FE PUBLICA OFICINA DE REGISTRO DE INSTRUMENTOS PUBLICOS DE CAJAMARCA ORIP \n",
            "\n",
            " \n",
            "\n",
            "ANOTACION: Nro 005 Fecha: 08-09-1988 Radicación: 88-479\n",
            "\n",
            "Doc: OFICIO 1016 DEL 06-09-1988  JUZGADO QUINTO C. MPAL DE IBAGUE VALOR ACTO: $ \n",
            "ESPECIFICACION: MEDIDA CAUTELAR: 401 EMBARGO MEDIDA CAUTELAR \n",
            "PERSONAS QUE INTERVIENEN EN EL ACTO (X-Titular de derecho real de dominio,I-Titular de dominio incompleto) \n",
            "DE: BOTERO DE CONTRERAS MARIELA      \n",
            "A: YEPES ALBEIRO  X    \n",
            " \n",
            "\n",
            " \n",
            "\n",
            "SUPERINTENDENCIA DE NOTARIADO Y REGISTRO LA GUARDA DE LA FE PUBLICA OFICINA DE REGISTRO DE INSTRUMENTOS PUBLICOS DE CAJAMARCA ORIP SUPERINTENDENCIA DE NOTARIADO Y REGISTRO LA GUARDA DE LA FE PUBLICA OFICINA DE REGISTRO DE INSTRUMENTOS PUBLICOS DE CAJAMARCA ORIP SUPERINTENDENCIA DE NOTARIADO Y REGISTRO LA GUARDA DE LA FE PUBLICA OFICINA DE REGISTRO DE INSTRUMENTOS PUBLICOS DE CAJAMARCA ORIP SUPERINTENDENCIA DE NOTARIADO Y REGISTRO LA GUARDA DE LA FE PUBLICA OFICINA DE REGISTRO DE INSTRUMENTOS PUBLICOS DE CAJAMARCA ORIP SUPERINTENDENCIA DE NOTARIADO Y REGISTRO LA GUARDA DE LA FE PUBLICA OFICINA DE REGISTRO DE INSTRUMENTOS PUBLICOS DE CAJAMARCA ORIP \n",
            "\n",
            " \n",
            "\n",
            "ANOTACION: Nro 006 Fecha: 18-10-1988 Radicación: 88-529\n",
            "\n",
            "Doc: OFICIO 1164 DEL 07-10-1988  JUZGADO QUINTO CIVIL MPAL DE IBAGUE VALOR ACTO: $ \n",
            "     Se cancela anotación No: 5 \n",
            "ESPECIFICACION: CANCELACION: 790 CANCELACION EMBARGO  \n",
            "PERSONAS QUE INTERVIENEN EN EL ACTO (X-Titular de derecho real de dominio,I-Titular de dominio incompleto) \n",
            "DE: BOTERO DE CONTRERAS MARIELA      \n",
            "A: YEPES ALBEIRO  X    \n",
            " \n",
            "\n",
            " \n",
            "\n",
            "SUPERINTENDENCIA DE NOTARIADO Y REGISTRO LA GUARDA DE LA FE PUBLICA OFICINA DE REGISTRO DE INSTRUMENTOS PUBLICOS DE CAJAMARCA ORIP SUPERINTENDENCIA DE NOTARIADO Y REGISTRO LA GUARDA DE LA FE PUBLICA OFICINA DE REGISTRO DE INSTRUMENTOS PUBLICOS DE CAJAMARCA ORIP SUPERINTENDENCIA DE NOTARIADO Y REGISTRO LA GUARDA DE LA FE PUBLICA OFICINA DE REGISTRO DE INSTRUMENTOS PUBLICOS DE CAJAMARCA ORIP SUPERINTENDENCIA DE NOTARIADO Y REGISTRO LA GUARDA DE LA FE PUBLICA OFICINA DE REGISTRO DE INSTRUMENTOS PUBLICOS DE CAJAMARCA ORIP SUPERINTENDENCIA DE NOTARIADO Y REGISTRO LA GUARDA DE LA FE PUBLICA OFICINA DE REGISTRO DE INSTRUMENTOS PUBLICOS DE CAJAMARCA ORIP \n",
            "\n",
            " \n",
            "\n",
            "ANOTACION: Nro 007 Fecha: 24-10-2003 Radicación: 335\n",
            "\n",
            "Doc: ESCRITURA 281 DEL 24-02-2003  NOTARIA UNICA DE CAJAMARCA VALOR ACTO: $ \n",
            "\n",
            "OFICINA DE REGISTRO DE INSTRUMENTOS PUBLICOS DE CAJAMARCA\n",
            "\n",
            "CERTIFICADO DE TRADICION\n",
            "\n",
            "MATRICULA INMOBILIARIA\n",
            "\n",
            "\n",
            "\n",
            "La validez de este documento podrá verificarse en la página www.snrbotondepago.gov.co/certificado/\n",
            "\n",
            "Certificado generado con el Pin No: 200902690133437015 Nro Matrícula: 354-1425\n",
            "Pagina 3\n",
            "\n",
            "Impreso el 2 de Septiembre de 2020 a las 11:42:52 AM\n",
            "\n",
            "\"ESTE CERTIFICADO REFLEJA LA SITUACION JURIDICA DEL INMUEBLE\n",
            "\n",
            "HASTA LA FECHA Y HORA DE SU EXPEDICION\" \n",
            "\n",
            "No tiene validez sin la firma del registrador en la ultima página \n",
            "\n",
            "ESPECIFICACION: GRAVAMEN: 0205 HIPOTECA ABIERTA DE PRIMER GRADO SIN NINGUNA LIMITACION GRAVAMEN \n",
            "\n",
            "PERSONAS QUE INTERVIENEN EN EL ACTO (X-Titular de derecho real de dominio,I-Titular de dominio incompleto) \n",
            "\n",
            "DE: YEPES DE RICAURTE MARIA RUBIELINA  X    \n",
            "\n",
            "DE: YEPES MENESES ALBEIRO  X    \n",
            "\n",
            "DE: YEPES MENESES AMALIA  X    \n",
            "\n",
            "DE: YEPES MENESES ANA MARGOTH  X    \n",
            "\n",
            "DE: YEPES MENESES RODOLFO ARTURO  X    \n",
            "\n",
            "A: BANCO AGRARIO DE COLOMBIA S.A.       \n",
            " \n",
            "\n",
            " \n",
            "\n",
            "SUPERINTENDENCIA DE NOTARIADO Y REGISTRO LA GUARDA DE LA FE PUBLICA OFICINA DE REGISTRO DE INSTRUMENTOS PUBLICOS DE CAJAMARCA ORIP SUPERINTENDENCIA DE NOTARIADO Y REGISTRO LA GUARDA DE LA FE PUBLICA OFICINA DE REGISTRO DE INSTRUMENTOS PUBLICOS DE CAJAMARCA ORIP SUPERINTENDENCIA DE NOTARIADO Y REGISTRO LA GUARDA DE LA FE PUBLICA OFICINA DE REGISTRO DE INSTRUMENTOS PUBLICOS DE CAJAMARCA ORIP SUPERINTENDENCIA DE NOTARIADO Y REGISTRO LA GUARDA DE LA FE PUBLICA OFICINA DE REGISTRO DE INSTRUMENTOS PUBLICOS DE CAJAMARCA ORIP SUPERINTENDENCIA DE NOTARIADO Y REGISTRO LA GUARDA DE LA FE PUBLICA OFICINA DE REGISTRO DE INSTRUMENTOS PUBLICOS DE CAJAMARCA ORIP \n",
            "\n",
            " \n",
            "\n",
            "ANOTACION: Nro 008 Fecha: 15-05-2007 Radicación: 147\n",
            "\n",
            "Doc: ESCRITURA 1267 DEL 28-04-2007  NOTARIA CUARTA DE IBAGUE VALOR ACTO: $31,833,416 \n",
            "ESPECIFICACION: MODO DE ADQUISICION: 0126 COMPRAVENTA TOTAL DERECHO MODO DE ADQUISICION \n",
            "PERSONAS QUE INTERVIENEN EN EL ACTO (X-Titular de derecho real de dominio,I-Titular de dominio incompleto) \n",
            "DE: YEPES MENESES ALBEIRO      \n",
            "A: YEPES DE RICAURTE MARIA RUBIELINA  X    \n",
            "A: YEPES MENESES AMALIA  X    \n",
            "A: YEPES MENESES ANA MARGOTH  X    \n",
            "A: YEPES MENESES RODOLFO ARTURO  X    \n",
            " \n",
            "\n",
            " \n",
            "\n",
            "SUPERINTENDENCIA DE NOTARIADO Y REGISTRO LA GUARDA DE LA FE PUBLICA OFICINA DE REGISTRO DE INSTRUMENTOS PUBLICOS DE CAJAMARCA ORIP SUPERINTENDENCIA DE NOTARIADO Y REGISTRO LA GUARDA DE LA FE PUBLICA OFICINA DE REGISTRO DE INSTRUMENTOS PUBLICOS DE CAJAMARCA ORIP SUPERINTENDENCIA DE NOTARIADO Y REGISTRO LA GUARDA DE LA FE PUBLICA OFICINA DE REGISTRO DE INSTRUMENTOS PUBLICOS DE CAJAMARCA ORIP SUPERINTENDENCIA DE NOTARIADO Y REGISTRO LA GUARDA DE LA FE PUBLICA OFICINA DE REGISTRO DE INSTRUMENTOS PUBLICOS DE CAJAMARCA ORIP SUPERINTENDENCIA DE NOTARIADO Y REGISTRO LA GUARDA DE LA FE PUBLICA OFICINA DE REGISTRO DE INSTRUMENTOS PUBLICOS DE CAJAMARCA ORIP \n",
            "\n",
            " \n",
            "\n",
            "ANOTACION: Nro 009 Fecha: 16-07-2008 Radicación: 178\n",
            "\n",
            "Doc: ESCRITURA 2237 DEL 15-07-2008  NOTARIA CUARTA DE IBAGUE VALOR ACTO: $ \n",
            "     Se cancela anotación No: 7 \n",
            "ESPECIFICACION: CANCELACION: 0775 CANCELACION HIPOTECA  \n",
            "PERSONAS QUE INTERVIENEN EN EL ACTO (X-Titular de derecho real de dominio,I-Titular de dominio incompleto) \n",
            "DE: BANCO AGRARIO DE COLOMBIA S.A.       \n",
            "A: YEPES DE RICAURTE MARIA RUBIELINA  X    \n",
            "A: YEPES MENESES ALBEIRO      \n",
            "A: YEPES MENESES AMALIA  X    \n",
            "A: YEPES MENESES ANA MARGOTH  X    \n",
            "A: YEPES MENESES RODOLFO ARTURO  X    \n",
            " \n",
            "\n",
            " \n",
            "\n",
            "SUPERINTENDENCIA DE NOTARIADO Y REGISTRO LA GUARDA DE LA FE PUBLICA OFICINA DE REGISTRO DE INSTRUMENTOS PUBLICOS DE CAJAMARCA ORIP SUPERINTENDENCIA DE NOTARIADO Y REGISTRO LA GUARDA DE LA FE PUBLICA OFICINA DE REGISTRO DE INSTRUMENTOS PUBLICOS DE CAJAMARCA ORIP SUPERINTENDENCIA DE NOTARIADO Y REGISTRO LA GUARDA DE LA FE PUBLICA OFICINA DE REGISTRO DE INSTRUMENTOS PUBLICOS DE CAJAMARCA ORIP SUPERINTENDENCIA DE NOTARIADO Y REGISTRO LA GUARDA DE LA FE PUBLICA OFICINA DE REGISTRO DE INSTRUMENTOS PUBLICOS DE CAJAMARCA ORIP SUPERINTENDENCIA DE NOTARIADO Y REGISTRO LA GUARDA DE LA FE PUBLICA OFICINA DE REGISTRO DE INSTRUMENTOS PUBLICOS DE CAJAMARCA ORIP \n",
            "\n",
            " \n",
            "\n",
            "ANOTACION: Nro 010 Fecha: 09-08-2019 Radicación: 2019-354-6-332\n",
            "\n",
            "Doc: ESCRITURA 1609 DEL 01-08-2019 NOTARIA PRIMERA DE IBAGUE VALOR ACTO: $76,000,000 \n",
            "ESPECIFICACION: LIMITACION AL DOMINIO: 0307 COMPRAVENTA DERECHOS DE CUOTA  \n",
            "PERSONAS QUE INTERVIENEN EN EL ACTO (X-Titular de derecho real de dominio,I-Titular de dominio incompleto) \n",
            "DE: YEPES MENESES AMALIA  CC# 28545320     \n",
            "\n",
            "OFICINA DE REGISTRO DE INSTRUMENTOS PUBLICOS DE CAJAMARCA\n",
            "\n",
            "CERTIFICADO DE TRADICION\n",
            "\n",
            "MATRICULA INMOBILIARIA\n",
            "\n",
            "\n",
            "\n",
            "La validez de este documento podrá verificarse en la página www.snrbotondepago.gov.co/certificado/\n",
            "\n",
            "Certificado generado con el Pin No: 200902690133437015 Nro Matrícula: 354-1425\n",
            "Pagina 4\n",
            "\n",
            "Impreso el 2 de Septiembre de 2020 a las 11:42:52 AM\n",
            "\n",
            "\"ESTE CERTIFICADO REFLEJA LA SITUACION JURIDICA DEL INMUEBLE\n",
            "\n",
            "HASTA LA FECHA Y HORA DE SU EXPEDICION\" \n",
            "\n",
            "No tiene validez sin la firma del registrador en la ultima página \n",
            "\n",
            "A: YEPES MENESES ANA MARGOTH  CC# 38218718 X   25% \n",
            " \n",
            "\n",
            " \n",
            "\n",
            "SUPERINTENDENCIA DE NOTARIADO Y REGISTRO LA GUARDA DE LA FE PUBLICA OFICINA DE REGISTRO DE INSTRUMENTOS PUBLICOS DE CAJAMARCA ORIP SUPERINTENDENCIA DE NOTARIADO Y REGISTRO LA GUARDA DE LA FE PUBLICA OFICINA DE REGISTRO DE INSTRUMENTOS PUBLICOS DE CAJAMARCA ORIP SUPERINTENDENCIA DE NOTARIADO Y REGISTRO LA GUARDA DE LA FE PUBLICA OFICINA DE REGISTRO DE INSTRUMENTOS PUBLICOS DE CAJAMARCA ORIP SUPERINTENDENCIA DE NOTARIADO Y REGISTRO LA GUARDA DE LA FE PUBLICA OFICINA DE REGISTRO DE INSTRUMENTOS PUBLICOS DE CAJAMARCA ORIP SUPERINTENDENCIA DE NOTARIADO Y REGISTRO LA GUARDA DE LA FE PUBLICA OFICINA DE REGISTRO DE INSTRUMENTOS PUBLICOS DE CAJAMARCA ORIP \n",
            "\n",
            " \n",
            "\n",
            "ANOTACION: Nro 011 Fecha: 25-02-2020 Radicación: 2020-354-6-82\n",
            "\n",
            "Doc: ESCRITURA 453 DEL 24-02-2020 NOTARIA QUINTA DE ARMENIA VALOR ACTO: $0 \n",
            "ESPECIFICACION: OTRO: 0906 CAMBIO DE NOMBRE MEDIANTE RECTIFICACIÓN DE LA REGISTRADURÍA DEL ESTADO CIVIL DE FECHA  07/09/2001 \n",
            "PERSONAS QUE INTERVIENEN EN EL ACTO (X-Titular de derecho real de dominio,I-Titular de dominio incompleto) \n",
            "A: YEPES MENESES MARIA RUBIELINA C.C 28532861  X    \n",
            " \n",
            "\n",
            " \n",
            "\n",
            "SUPERINTENDENCIA DE NOTARIADO Y REGISTRO LA GUARDA DE LA FE PUBLICA OFICINA DE REGISTRO DE INSTRUMENTOS PUBLICOS DE CAJAMARCA ORIP SUPERINTENDENCIA DE NOTARIADO Y REGISTRO LA GUARDA DE LA FE PUBLICA OFICINA DE REGISTRO DE INSTRUMENTOS PUBLICOS DE CAJAMARCA ORIP SUPERINTENDENCIA DE NOTARIADO Y REGISTRO LA GUARDA DE LA FE PUBLICA OFICINA DE REGISTRO DE INSTRUMENTOS PUBLICOS DE CAJAMARCA ORIP SUPERINTENDENCIA DE NOTARIADO Y REGISTRO LA GUARDA DE LA FE PUBLICA OFICINA DE REGISTRO DE INSTRUMENTOS PUBLICOS DE CAJAMARCA ORIP SUPERINTENDENCIA DE NOTARIADO Y REGISTRO LA GUARDA DE LA FE PUBLICA OFICINA DE REGISTRO DE INSTRUMENTOS PUBLICOS DE CAJAMARCA ORIP \n",
            "\n",
            " \n",
            "\n",
            "ANOTACION: Nro 012 Fecha: 25-02-2020 Radicación: 2020-354-6-82\n",
            "\n",
            "Doc: ESCRITURA 453 DEL 24-02-2020 NOTARIA QUINTA DE ARMENIA VALOR ACTO: $0 \n",
            "ESPECIFICACION: OTRO: 0901 ACLARACION DE LA ESCRITURA N°1267 DEL 28/04/2007 NOTARIA CUARTA DE IBAGUÉ ENCUANTO AL NOMBRE DEL\n",
            "\n",
            "TITULAR DE DERECHO REAL  DE DOMINIO \n",
            "PERSONAS QUE INTERVIENEN EN EL ACTO (X-Titular de derecho real de dominio,I-Titular de dominio incompleto) \n",
            "A: YEPES MENESES MARIA  RUBIELINA  C.C 28532861  X    \n",
            " \n",
            "\n",
            " \n",
            "\n",
            "SUPERINTENDENCIA DE NOTARIADO Y REGISTRO LA GUARDA DE LA FE PUBLICA OFICINA DE REGISTRO DE INSTRUMENTOS PUBLICOS DE CAJAMARCA ORIP SUPERINTENDENCIA DE NOTARIADO Y REGISTRO LA GUARDA DE LA FE PUBLICA OFICINA DE REGISTRO DE INSTRUMENTOS PUBLICOS DE CAJAMARCA ORIP SUPERINTENDENCIA DE NOTARIADO Y REGISTRO LA GUARDA DE LA FE PUBLICA OFICINA DE REGISTRO DE INSTRUMENTOS PUBLICOS DE CAJAMARCA ORIP SUPERINTENDENCIA DE NOTARIADO Y REGISTRO LA GUARDA DE LA FE PUBLICA OFICINA DE REGISTRO DE INSTRUMENTOS PUBLICOS DE CAJAMARCA ORIP SUPERINTENDENCIA DE NOTARIADO Y REGISTRO LA GUARDA DE LA FE PUBLICA OFICINA DE REGISTRO DE INSTRUMENTOS PUBLICOS DE CAJAMARCA ORIP \n",
            "\n",
            " \n",
            "\n",
            "ANOTACION: Nro 013 Fecha: 25-02-2020 Radicación: 2020-354-6-82\n",
            "\n",
            "Doc: ESCRITURA 453 DEL 24-02-2020 NOTARIA QUINTA DE ARMENIA VALOR ACTO: $3,064,850,000 \n",
            "ESPECIFICACION: MODO DE ADQUISICION: 0125 COMPRAVENTA  \n",
            "PERSONAS QUE INTERVIENEN EN EL ACTO (X-Titular de derecho real de dominio,I-Titular de dominio incompleto) \n",
            "DE: YEPES MENESES ANA MARGOTH  CC# 38218718     \n",
            "DE: YEPES MENESES MARIA RUBIELINA C.C 28532861      \n",
            "DE: YEPES MENESES RODOLFO ARTURO  CC# 14243883     \n",
            "A: GREEN SUPERFOOD S.A.S NIT# 9011853125X    \n",
            " \n",
            "\n",
            " \n",
            "\n",
            "SUPERINTENDENCIA DE NOTARIADO Y REGISTRO LA GUARDA DE LA FE PUBLICA OFICINA DE REGISTRO DE INSTRUMENTOS PUBLICOS DE CAJAMARCA ORIP SUPERINTENDENCIA DE NOTARIADO Y REGISTRO LA GUARDA DE LA FE PUBLICA OFICINA DE REGISTRO DE INSTRUMENTOS PUBLICOS DE CAJAMARCA ORIP SUPERINTENDENCIA DE NOTARIADO Y REGISTRO LA GUARDA DE LA FE PUBLICA OFICINA DE REGISTRO DE INSTRUMENTOS PUBLICOS DE CAJAMARCA ORIP SUPERINTENDENCIA DE NOTARIADO Y REGISTRO LA GUARDA DE LA FE PUBLICA OFICINA DE REGISTRO DE INSTRUMENTOS PUBLICOS DE CAJAMARCA ORIP SUPERINTENDENCIA DE NOTARIADO Y REGISTRO LA GUARDA DE LA FE PUBLICA OFICINA DE REGISTRO DE INSTRUMENTOS PUBLICOS DE CAJAMARCA ORIP \n",
            "\n",
            " \n",
            "\n",
            "ANOTACION: Nro 014 Fecha: 25-02-2020 Radicación: 2020-354-6-82\n",
            "\n",
            "Doc: ESCRITURA 453 DEL 24-02-2020 NOTARIA QUINTA DE ARMENIA VALOR ACTO: $0 \n",
            "ESPECIFICACION: LIMITACION AL DOMINIO: 0311 CONDICION RESOLUTORIA EXPRESA  \n",
            "PERSONAS QUE INTERVIENEN EN EL ACTO (X-Titular de derecho real de dominio,I-Titular de dominio incompleto) \n",
            "DE: YEPES MENESES ANA MARGOTH  CC# 38218718     \n",
            "DE: YEPES MENESES MARIA  RUBIELINA C.C 28532861      \n",
            "DE: YEPES MENESES RODOLFO ARTURO  CC# 14243883     \n",
            "A: GREEN SUPERFOOD S.A.S NIT# 9011853125X    \n",
            " \n",
            "\n",
            " \n",
            "\n",
            "SUPERINTENDENCIA DE NOTARIADO Y REGISTRO LA GUARDA DE LA FE PUBLICA OFICINA DE REGISTRO DE INSTRUMENTOS PUBLICOS DE CAJAMARCA ORIP SUPERINTENDENCIA DE NOTARIADO Y REGISTRO LA GUARDA DE LA FE PUBLICA OFICINA DE REGISTRO DE INSTRUMENTOS PUBLICOS DE CAJAMARCA ORIP SUPERINTENDENCIA DE NOTARIADO Y REGISTRO LA GUARDA DE LA FE PUBLICA OFICINA DE REGISTRO DE INSTRUMENTOS PUBLICOS DE CAJAMARCA ORIP SUPERINTENDENCIA DE NOTARIADO Y REGISTRO LA GUARDA DE LA FE PUBLICA OFICINA DE REGISTRO DE INSTRUMENTOS PUBLICOS DE CAJAMARCA ORIP SUPERINTENDENCIA DE NOTARIADO Y REGISTRO LA GUARDA DE LA FE PUBLICA OFICINA DE REGISTRO DE INSTRUMENTOS PUBLICOS DE CAJAMARCA ORIP \n",
            "\n",
            " \n",
            "\n",
            "NRO TOTAL DE ANOTACIONES: *14*\n",
            " \n",
            "\n",
            " \n",
            "\n",
            "SUPERINTENDENCIA DE NOTARIADO Y REGISTRO LA GUARDA DE LA FE PUBLICA OFICINA DE REGISTRO DE INSTRUMENTOS PUBLICOS DE CAJAMARCA ORIP SUPERINTENDENCIA DE NOTARIADO Y REGISTRO LA GUARDA DE LA FE PUBLICA OFICINA DE REGISTRO DE INSTRUMENTOS PUBLICOS DE CAJAMARCA ORIP SUPERINTENDENCIA DE NOTARIADO Y REGISTRO LA GUARDA DE LA FE PUBLICA OFICINA DE REGISTRO DE INSTRUMENTOS PUBLICOS DE CAJAMARCA ORIP SUPERINTENDENCIA DE NOTARIADO Y REGISTRO LA GUARDA DE LA FE PUBLICA OFICINA DE REGISTRO DE INSTRUMENTOS PUBLICOS DE CAJAMARCA ORIP SUPERINTENDENCIA DE NOTARIADO Y REGISTRO LA GUARDA DE LA FE PUBLICA OFICINA DE REGISTRO DE INSTRUMENTOS PUBLICOS DE CAJAMARCA ORIP \n",
            "\n",
            " \n",
            "\n",
            " \n",
            "\n",
            " \n",
            "\n",
            "SUPERINTENDENCIA DE NOTARIADO Y REGISTRO LA GUARDA DE LA FE PUBLICA OFICINA DE REGISTRO DE INSTRUMENTOS PUBLICOS DE CAJAMARCA ORIP SUPERINTENDENCIA DE NOTARIADO Y REGISTRO LA GUARDA DE LA FE PUBLICA OFICINA DE REGISTRO DE INSTRUMENTOS PUBLICOS DE CAJAMARCA ORIP SUPERINTENDENCIA DE NOTARIADO Y REGISTRO LA GUARDA DE LA FE PUBLICA OFICINA DE REGISTRO DE INSTRUMENTOS PUBLICOS DE CAJAMARCA ORIP SUPERINTENDENCIA DE NOTARIADO Y REGISTRO LA GUARDA DE LA FE PUBLICA OFICINA DE REGISTRO DE INSTRUMENTOS PUBLICOS DE CAJAMARCA ORIP SUPERINTENDENCIA DE NOTARIADO Y REGISTRO LA GUARDA DE LA FE PUBLICA OFICINA DE REGISTRO DE INSTRUMENTOS PUBLICOS DE CAJAMARCA ORIP \n",
            "\n",
            " \n",
            "\n",
            "SALVEDADES: (Información Anterior o Corregida)\n",
            "\n",
            "Anotación Nro: 10 Nro corrección: 1 Radicación: 2020-354-3-21 Fecha: 20-02-2020\n",
            "\n",
            "OFICINA DE REGISTRO DE INSTRUMENTOS PUBLICOS DE CAJAMARCA\n",
            "\n",
            "CERTIFICADO DE TRADICION\n",
            "\n",
            "MATRICULA INMOBILIARIA\n",
            "\n",
            "\n",
            "\n",
            "La validez de este documento podrá verificarse en la página www.snrbotondepago.gov.co/certificado/\n",
            "\n",
            "Certificado generado con el Pin No: 200902690133437015 Nro Matrícula: 354-1425\n",
            "Pagina 5\n",
            "\n",
            "Impreso el 2 de Septiembre de 2020 a las 11:42:52 AM\n",
            "\n",
            "\"ESTE CERTIFICADO REFLEJA LA SITUACION JURIDICA DEL INMUEBLE\n",
            "\n",
            "HASTA LA FECHA Y HORA DE SU EXPEDICION\" \n",
            "\n",
            "No tiene validez sin la firma del registrador en la ultima página \n",
            "\n",
            "QUEDO MAL  DIGITADO EL NOMBRE MARGOT  ES MARGOTH LEY 1579  DE 2012 ART  59 M.C.L.E\n",
            "\n",
            "Anotación Nro: 2 Nro corrección: 1 Radicación: 2020-354-3-22 Fecha: 21-02-2020\n",
            "\n",
            "SE  COLOCO  A  COMO  SE  FUERA TITULAR  BELMER   Y   ERA  VEDEDOR  LEY  1579 DE  2012  ART  59 M.C.L.E\n",
            "\n",
            "Anotación Nro: 0 Nro corrección: 1 Radicación: ICARE-2015 Fecha: 21-12-2015\n",
            "\n",
            "SE INCLUYE NUEVO NUMERO PREDIAL DE 30 DIGITOS SUMINISTRADOS POR EL I.G.A.C. (SNC), RES No. 8589 DE 27-11-2008 PROFERIDA POR LA\n",
            "\n",
            "S.N.R (CONVENIO IGAC-SNR DE 23-09-2008)\n",
            " \n",
            "\n",
            " \n",
            "\n",
            "SUPERINTENDENCIA DE NOTARIADO Y REGISTRO LA GUARDA DE LA FE PUBLICA OFICINA DE REGISTRO DE INSTRUMENTOS PUBLICOS DE CAJAMARCA ORIP SUPERINTENDENCIA DE NOTARIADO Y REGISTRO LA GUARDA DE LA FE PUBLICA OFICINA DE REGISTRO DE INSTRUMENTOS PUBLICOS DE CAJAMARCA ORIP SUPERINTENDENCIA DE NOTARIADO Y REGISTRO LA GUARDA DE LA FE PUBLICA OFICINA DE REGISTRO DE INSTRUMENTOS PUBLICOS DE CAJAMARCA ORIP SUPERINTENDENCIA DE NOTARIADO Y REGISTRO LA GUARDA DE LA FE PUBLICA OFICINA DE REGISTRO DE INSTRUMENTOS PUBLICOS DE CAJAMARCA ORIP SUPERINTENDENCIA DE NOTARIADO Y REGISTRO LA GUARDA DE LA FE PUBLICA OFICINA DE REGISTRO DE INSTRUMENTOS PUBLICOS DE CAJAMARCA ORIP \n",
            "\n",
            " \n",
            "\n",
            "= = = = = = = = = = = = = = = = = = = = = = = = = = = = = = = = = = = = = = = = = = = = = = = = = = = = = = = = = = = = = = = = = = = = = = = = =\n",
            "\n",
            "FIN DE ESTE DOCUMENTO\n",
            "\n",
            "El interesado debe comunicar al registrador cualquier falla o error en el registro de los documentos\n",
            "\n",
            "USUARIO: Realtech\n",
            "\n",
            "TURNO: 2020-354-1-2126            FECHA: 02-09-2020\n",
            "\n",
            "EXPEDIDO EN: BOGOTA\n",
            " \n",
            "\n",
            "SUPERINTENDENCIA DE NOTARIADO Y REGISTRO LA GUARDA DE LA FE PUBLICA OFICINA DE REGISTRO DE INSTRUMENTOS PUBLICOS DE CAJAMARCA ORIP  SUPERINTENDENCIA DE NOTARIADO Y REGISTRO LA GUARDA DE LA FE PUBLICA OFICINA DE REGISTRO DE INSTRUMENTOS PUBLICOS DE CAJAMARCA ORIP \n",
            "\n",
            "El Registrador: MARTHA CECILIA LOPEZ ESPINOSA\n",
            " \n",
            "\n",
            "SUPERINTENDENCIA DE NOTARIADO Y REGISTRO LA GUARDA DE LA FE PUBLICA OFICINA DE REGISTRO DE INSTRUMENTOS PUBLICOS DE CAJAMARCA ORIP  SUPERINTENDENCIA DE NOTARIADO Y REGISTRO LA GUARDA DE LA FE PUBLICA OFICINA DE REGISTRO DE INSTRUMENTOS PUBLICOS DE CAJAMARCA ORIP \n",
            "\n",
            "OFICINA DE REGISTRO DE INSTRUMENTOS PUBLICOS DE CAJAMARCA\n",
            "\n",
            "CERTIFICADO DE TRADICION\n",
            "\n",
            "MATRICULA INMOBILIARIA\n",
            "\n",
            "\n",
            "\t\t2020-09-02T11:42:53-0500\n",
            "\tSUPERINTENDENCIA DE NOTARIADO Y REGISTRO\n",
            "\n",
            "\n",
            "\n",
            "\n",
            "\n"
          ]
        }
      ]
    },
    {
      "cell_type": "code",
      "metadata": {
        "id": "0aRSpIAgxj69"
      },
      "source": [
        "import re"
      ],
      "execution_count": null,
      "outputs": []
    },
    {
      "cell_type": "markdown",
      "metadata": {
        "id": "jnAi9JFRe-kc"
      },
      "source": [
        "## OBTENCIÓN DE DATOS DEL ENCABEZADO"
      ]
    },
    {
      "cell_type": "code",
      "metadata": {
        "colab": {
          "base_uri": "https://localhost:8080/"
        },
        "id": "f3s79dqqq2e7",
        "outputId": "4da7685d-998e-42f7-89dc-7ccf1dd4219f"
      },
      "source": [
        "numero_matricula = re.search('Nro Matrícula: [0-9A-Za-z]*-[0-9A-Za-z]*',raw['content'])[0].split(':')[1].replace(' ','')\n",
        "print(numero_matricula)"
      ],
      "execution_count": null,
      "outputs": [
        {
          "output_type": "stream",
          "name": "stdout",
          "text": [
            "354-1425\n"
          ]
        }
      ]
    },
    {
      "cell_type": "code",
      "metadata": {
        "colab": {
          "base_uri": "https://localhost:8080/"
        },
        "id": "PT0n4wtxtEY-",
        "outputId": "abc40216-53d2-4d8b-da4a-613af05cbc4e"
      },
      "source": [
        "fecha_impresion = re.search('Impreso el [0-9A-Za-z :]*',raw['content'])[0].replace('Impreso el ','')\n",
        "print(fecha_impresion)"
      ],
      "execution_count": null,
      "outputs": [
        {
          "output_type": "stream",
          "name": "stdout",
          "text": [
            "2 de Septiembre de 2020 a las 11:42:52 AM\n"
          ]
        }
      ]
    },
    {
      "cell_type": "code",
      "metadata": {
        "colab": {
          "base_uri": "https://localhost:8080/"
        },
        "id": "CNvTHuYdzv-F",
        "outputId": "178731a8-f58d-415f-fd40-5fb63d3c9327"
      },
      "source": [
        "circulo_registral = (re.search('CIRCULO REGISTRAL: [0-9A-Za-z -:]*',raw['content'])[0].split(':',1)[1])[1:]\n",
        "print(circulo_registral)"
      ],
      "execution_count": null,
      "outputs": [
        {
          "output_type": "stream",
          "name": "stdout",
          "text": [
            "354 - CAJAMARCA  DEPTO: TOLIMA  MUNICIPIO: CAJAMARCA  VEREDA:  ANAIME\n"
          ]
        }
      ]
    },
    {
      "cell_type": "code",
      "metadata": {
        "colab": {
          "base_uri": "https://localhost:8080/"
        },
        "id": "HlCs5pKOJqxu",
        "outputId": "d6612898-8849-4022-8388-634bb54547ad"
      },
      "source": [
        "codigo_catastral = (re.search('CODIGO CATASTRAL: [0-9A-Za-z -:]*',raw['content'])[0].split(':',1)[1])[1:]\n",
        "print(codigo_catastral)"
      ],
      "execution_count": null,
      "outputs": [
        {
          "output_type": "stream",
          "name": "stdout",
          "text": [
            "731240001000000150001000000000COD CATASTRAL ANT: SIN INFORMACION \n"
          ]
        }
      ]
    },
    {
      "cell_type": "code",
      "metadata": {
        "colab": {
          "base_uri": "https://localhost:8080/"
        },
        "id": "zFTPwuKYKlWe",
        "outputId": "7d2d9746-22c5-476e-b0ef-c6097d12b7eb"
      },
      "source": [
        "estado_folio = re.search('ESTADO DEL FOLIO: (ACTIVO|INACTIVO)',raw['content'])[0].split(':',1)[1].replace(' ','')\n",
        "print(estado_folio)"
      ],
      "execution_count": null,
      "outputs": [
        {
          "output_type": "stream",
          "name": "stdout",
          "text": [
            "ACTIVO\n"
          ]
        }
      ]
    },
    {
      "cell_type": "code",
      "metadata": {
        "colab": {
          "base_uri": "https://localhost:8080/"
        },
        "id": "Askr02xeLJz2",
        "outputId": "f8c56e1f-9bec-4314-eea9-a6a12a41ea2a"
      },
      "source": [
        "#No sé en qué parte dice la dirección o para este documento no está la información (o no la entiendo)\n",
        "#Solo encuentro esto, pero no logro entender la dirección si la hay.\n",
        "#DIRECCION DEL INMUEBLE\n",
        "\n",
        "#Tipo Predio: RURAL\n",
        "\n",
        "#1) LA SUIZA\n",
        "\n",
        "#direccion_inmueble = re.search('')\n",
        "#print(direccion_inmueble)\n",
        "direccion_inmueble = ''\n",
        "print(direccion_inmueble)"
      ],
      "execution_count": null,
      "outputs": [
        {
          "output_type": "stream",
          "name": "stdout",
          "text": [
            "\n"
          ]
        }
      ]
    },
    {
      "cell_type": "code",
      "metadata": {
        "colab": {
          "base_uri": "https://localhost:8080/"
        },
        "id": "mQuKj9L_bZhj",
        "outputId": "26eb5a01-2f32-4ad3-eb30-609f32dff303"
      },
      "source": [
        "tipo_predio = re.search('Tipo Predio: (RURAL|URBANO)',raw['content'])[0].split(':',1)[1].replace(' ','')\n",
        "print(tipo_predio)"
      ],
      "execution_count": null,
      "outputs": [
        {
          "output_type": "stream",
          "name": "stdout",
          "text": [
            "RURAL\n"
          ]
        }
      ]
    },
    {
      "cell_type": "markdown",
      "metadata": {
        "id": "hqnzYrH1fCEa"
      },
      "source": [
        "## OBTENCIÓN DE DATOS DE LAS ANOTACIONES"
      ]
    },
    {
      "cell_type": "code",
      "metadata": {
        "colab": {
          "base_uri": "https://localhost:8080/"
        },
        "id": "pukxW1wodU3c",
        "outputId": "7a875a47-ec87-4ed9-d33f-d0f350e9ff8a"
      },
      "source": [
        "lista_anotaciones = raw['content'].split('NOTACION: Nro ')[1:]\n",
        "print(lista_anotaciones)"
      ],
      "execution_count": null,
      "outputs": [
        {
          "output_type": "stream",
          "name": "stdout",
          "text": [
            "['001 Fecha: 30-08-1962 Radicación: S/N\\n\\nDoc: JUICIO DE SUCESION S/N DEL 20-02-1961  JUZGADO PRIMERO CIVIL CTO DE IBAGUE VALOR ACTO: $327,000 \\nESPECIFICACION: MODO DE ADQUISICION: 150 ADJUDICACION JUICIO SUCESION CON OTROS BIENES MODO DE ADQUISICION \\nPERSONAS QUE INTERVIENEN EN EL ACTO (X-Titular de derecho real de dominio,I-Titular de dominio incompleto) \\nDE: OROZO BONILLA GONZALO      \\nA: OROZO DE OROZCO MARIA LUISA  X    \\nA: OROZO OROZCO BELMER  X    \\nA: OROZO OROZCO MARIA NIDIA  X    \\nA: OROZO OROZCO NOHORA  X    \\nA: OROZO OROZCO TONNY  X    \\n \\n\\n \\n\\nSUPERINTENDENCIA DE NOTARIADO Y REGISTRO LA GUARDA DE LA FE PUBLICA OFICINA DE REGISTRO DE INSTRUMENTOS PUBLICOS DE CAJAMARCA ORIP SUPERINTENDENCIA DE NOTARIADO Y REGISTRO LA GUARDA DE LA FE PUBLICA OFICINA DE REGISTRO DE INSTRUMENTOS PUBLICOS DE CAJAMARCA ORIP SUPERINTENDENCIA DE NOTARIADO Y REGISTRO LA GUARDA DE LA FE PUBLICA OFICINA DE REGISTRO DE INSTRUMENTOS PUBLICOS DE CAJAMARCA ORIP SUPERINTENDENCIA DE NOTARIADO Y REGISTRO LA GUARDA DE LA FE PUBLICA OFICINA DE REGISTRO DE INSTRUMENTOS PUBLICOS DE CAJAMARCA ORIP SUPERINTENDENCIA DE NOTARIADO Y REGISTRO LA GUARDA DE LA FE PUBLICA OFICINA DE REGISTRO DE INSTRUMENTOS PUBLICOS DE CAJAMARCA ORIP \\n\\n \\n\\nA', '002 Fecha: 27-10-1967 Radicación: S/N\\n\\nDoc: ESCRITURA 2050 DEL 24-10-1967  NOTARIA SEGUNDA DE IBAGUE VALOR ACTO: $628,700 \\nESPECIFICACION: MODO DE ADQUISICION: 106 ADJUDICACION LIQUIDACION DE LA COMUNIDAD MODO DE ADQUISICION \\nPERSONAS QUE INTERVIENEN EN EL ACTO (X-Titular de derecho real de dominio,I-Titular de dominio incompleto) \\nDE: OROZCO DE AGUILERA TONNY      \\nDE: OROZCO DE ARENLANO NIDIA      \\nDE: OROZCO DE ECHAVARRIA NOHORA      \\nDE: OROZCO OROZCO JOSE  BELMER      \\n\\nOFICINA DE REGISTRO DE INSTRUMENTOS PUBLICOS DE CAJAMARCA\\n\\nCERTIFICADO DE TRADICION\\n\\nMATRICULA INMOBILIARIA\\n\\n\\n\\nLa validez de este documento podrá verificarse en la página www.snrbotondepago.gov.co/certificado/\\n\\nCertificado generado con el Pin No: 200902690133437015 Nro Matrícula: 354-1425\\nPagina 2\\n\\nImpreso el 2 de Septiembre de 2020 a las 11:42:52 AM\\n\\n\"ESTE CERTIFICADO REFLEJA LA SITUACION JURIDICA DEL INMUEBLE\\n\\nHASTA LA FECHA Y HORA DE SU EXPEDICION\" \\n\\nNo tiene validez sin la firma del registrador en la ultima página \\n\\nA: OROZCO VDA DE OROZCO MARIA LUISA  X    \\n \\n\\n \\n\\nSUPERINTENDENCIA DE NOTARIADO Y REGISTRO LA GUARDA DE LA FE PUBLICA OFICINA DE REGISTRO DE INSTRUMENTOS PUBLICOS DE CAJAMARCA ORIP SUPERINTENDENCIA DE NOTARIADO Y REGISTRO LA GUARDA DE LA FE PUBLICA OFICINA DE REGISTRO DE INSTRUMENTOS PUBLICOS DE CAJAMARCA ORIP SUPERINTENDENCIA DE NOTARIADO Y REGISTRO LA GUARDA DE LA FE PUBLICA OFICINA DE REGISTRO DE INSTRUMENTOS PUBLICOS DE CAJAMARCA ORIP SUPERINTENDENCIA DE NOTARIADO Y REGISTRO LA GUARDA DE LA FE PUBLICA OFICINA DE REGISTRO DE INSTRUMENTOS PUBLICOS DE CAJAMARCA ORIP SUPERINTENDENCIA DE NOTARIADO Y REGISTRO LA GUARDA DE LA FE PUBLICA OFICINA DE REGISTRO DE INSTRUMENTOS PUBLICOS DE CAJAMARCA ORIP \\n\\n \\n\\nA', '003 Fecha: 23-11-1974 Radicación: S/N\\n\\nDoc: ESCRITURA 3176 DEL 31-10-1974  NOTARIA SEGUNDA DE IBAGUE VALOR ACTO: $1,500,000 \\nESPECIFICACION: MODO DE ADQUISICION: 101 COMPRAVENTA MODO DE ADQUISICION \\nPERSONAS QUE INTERVIENEN EN EL ACTO (X-Titular de derecho real de dominio,I-Titular de dominio incompleto) \\nDE: OROZCO VDA DE OROZCO MARIA LUISA      \\nA: GAITAN OSPINA RICARDO  X    \\n \\n\\n \\n\\nSUPERINTENDENCIA DE NOTARIADO Y REGISTRO LA GUARDA DE LA FE PUBLICA OFICINA DE REGISTRO DE INSTRUMENTOS PUBLICOS DE CAJAMARCA ORIP SUPERINTENDENCIA DE NOTARIADO Y REGISTRO LA GUARDA DE LA FE PUBLICA OFICINA DE REGISTRO DE INSTRUMENTOS PUBLICOS DE CAJAMARCA ORIP SUPERINTENDENCIA DE NOTARIADO Y REGISTRO LA GUARDA DE LA FE PUBLICA OFICINA DE REGISTRO DE INSTRUMENTOS PUBLICOS DE CAJAMARCA ORIP SUPERINTENDENCIA DE NOTARIADO Y REGISTRO LA GUARDA DE LA FE PUBLICA OFICINA DE REGISTRO DE INSTRUMENTOS PUBLICOS DE CAJAMARCA ORIP SUPERINTENDENCIA DE NOTARIADO Y REGISTRO LA GUARDA DE LA FE PUBLICA OFICINA DE REGISTRO DE INSTRUMENTOS PUBLICOS DE CAJAMARCA ORIP \\n\\n \\n\\nA', '004 Fecha: 13-09-1976 Radicación: S/N\\n\\nDoc: ESCRITURA 180 DEL 11-09-1976  NOTARIA UNICA DE CAJAMARCA VALOR ACTO: $2,000,000 \\nESPECIFICACION: LIMITACION AL DOMINIO: 351 COMPRAVENTA PROINDIVISO MODO DE ADQUISICION \\nPERSONAS QUE INTERVIENEN EN EL ACTO (X-Titular de derecho real de dominio,I-Titular de dominio incompleto) \\nDE: GAITAN OSPINA RICARDO      \\nA: YEPES DE RICAURTE MARIA RUBIELINA  X    \\nA: YEPES MENESES ALBEIRO  X    \\nA: YEPES MENESES AMALIA  X    \\nA: YEPES MENESES ANA MARGOTH  X    \\nA: YEPES MENESES RODOLFO ARTURO  X    \\n \\n\\n \\n\\nSUPERINTENDENCIA DE NOTARIADO Y REGISTRO LA GUARDA DE LA FE PUBLICA OFICINA DE REGISTRO DE INSTRUMENTOS PUBLICOS DE CAJAMARCA ORIP SUPERINTENDENCIA DE NOTARIADO Y REGISTRO LA GUARDA DE LA FE PUBLICA OFICINA DE REGISTRO DE INSTRUMENTOS PUBLICOS DE CAJAMARCA ORIP SUPERINTENDENCIA DE NOTARIADO Y REGISTRO LA GUARDA DE LA FE PUBLICA OFICINA DE REGISTRO DE INSTRUMENTOS PUBLICOS DE CAJAMARCA ORIP SUPERINTENDENCIA DE NOTARIADO Y REGISTRO LA GUARDA DE LA FE PUBLICA OFICINA DE REGISTRO DE INSTRUMENTOS PUBLICOS DE CAJAMARCA ORIP SUPERINTENDENCIA DE NOTARIADO Y REGISTRO LA GUARDA DE LA FE PUBLICA OFICINA DE REGISTRO DE INSTRUMENTOS PUBLICOS DE CAJAMARCA ORIP \\n\\n \\n\\nA', '005 Fecha: 08-09-1988 Radicación: 88-479\\n\\nDoc: OFICIO 1016 DEL 06-09-1988  JUZGADO QUINTO C. MPAL DE IBAGUE VALOR ACTO: $ \\nESPECIFICACION: MEDIDA CAUTELAR: 401 EMBARGO MEDIDA CAUTELAR \\nPERSONAS QUE INTERVIENEN EN EL ACTO (X-Titular de derecho real de dominio,I-Titular de dominio incompleto) \\nDE: BOTERO DE CONTRERAS MARIELA      \\nA: YEPES ALBEIRO  X    \\n \\n\\n \\n\\nSUPERINTENDENCIA DE NOTARIADO Y REGISTRO LA GUARDA DE LA FE PUBLICA OFICINA DE REGISTRO DE INSTRUMENTOS PUBLICOS DE CAJAMARCA ORIP SUPERINTENDENCIA DE NOTARIADO Y REGISTRO LA GUARDA DE LA FE PUBLICA OFICINA DE REGISTRO DE INSTRUMENTOS PUBLICOS DE CAJAMARCA ORIP SUPERINTENDENCIA DE NOTARIADO Y REGISTRO LA GUARDA DE LA FE PUBLICA OFICINA DE REGISTRO DE INSTRUMENTOS PUBLICOS DE CAJAMARCA ORIP SUPERINTENDENCIA DE NOTARIADO Y REGISTRO LA GUARDA DE LA FE PUBLICA OFICINA DE REGISTRO DE INSTRUMENTOS PUBLICOS DE CAJAMARCA ORIP SUPERINTENDENCIA DE NOTARIADO Y REGISTRO LA GUARDA DE LA FE PUBLICA OFICINA DE REGISTRO DE INSTRUMENTOS PUBLICOS DE CAJAMARCA ORIP \\n\\n \\n\\nA', '006 Fecha: 18-10-1988 Radicación: 88-529\\n\\nDoc: OFICIO 1164 DEL 07-10-1988  JUZGADO QUINTO CIVIL MPAL DE IBAGUE VALOR ACTO: $ \\n     Se cancela anotación No: 5 \\nESPECIFICACION: CANCELACION: 790 CANCELACION EMBARGO  \\nPERSONAS QUE INTERVIENEN EN EL ACTO (X-Titular de derecho real de dominio,I-Titular de dominio incompleto) \\nDE: BOTERO DE CONTRERAS MARIELA      \\nA: YEPES ALBEIRO  X    \\n \\n\\n \\n\\nSUPERINTENDENCIA DE NOTARIADO Y REGISTRO LA GUARDA DE LA FE PUBLICA OFICINA DE REGISTRO DE INSTRUMENTOS PUBLICOS DE CAJAMARCA ORIP SUPERINTENDENCIA DE NOTARIADO Y REGISTRO LA GUARDA DE LA FE PUBLICA OFICINA DE REGISTRO DE INSTRUMENTOS PUBLICOS DE CAJAMARCA ORIP SUPERINTENDENCIA DE NOTARIADO Y REGISTRO LA GUARDA DE LA FE PUBLICA OFICINA DE REGISTRO DE INSTRUMENTOS PUBLICOS DE CAJAMARCA ORIP SUPERINTENDENCIA DE NOTARIADO Y REGISTRO LA GUARDA DE LA FE PUBLICA OFICINA DE REGISTRO DE INSTRUMENTOS PUBLICOS DE CAJAMARCA ORIP SUPERINTENDENCIA DE NOTARIADO Y REGISTRO LA GUARDA DE LA FE PUBLICA OFICINA DE REGISTRO DE INSTRUMENTOS PUBLICOS DE CAJAMARCA ORIP \\n\\n \\n\\nA', '007 Fecha: 24-10-2003 Radicación: 335\\n\\nDoc: ESCRITURA 281 DEL 24-02-2003  NOTARIA UNICA DE CAJAMARCA VALOR ACTO: $ \\n\\nOFICINA DE REGISTRO DE INSTRUMENTOS PUBLICOS DE CAJAMARCA\\n\\nCERTIFICADO DE TRADICION\\n\\nMATRICULA INMOBILIARIA\\n\\n\\n\\nLa validez de este documento podrá verificarse en la página www.snrbotondepago.gov.co/certificado/\\n\\nCertificado generado con el Pin No: 200902690133437015 Nro Matrícula: 354-1425\\nPagina 3\\n\\nImpreso el 2 de Septiembre de 2020 a las 11:42:52 AM\\n\\n\"ESTE CERTIFICADO REFLEJA LA SITUACION JURIDICA DEL INMUEBLE\\n\\nHASTA LA FECHA Y HORA DE SU EXPEDICION\" \\n\\nNo tiene validez sin la firma del registrador en la ultima página \\n\\nESPECIFICACION: GRAVAMEN: 0205 HIPOTECA ABIERTA DE PRIMER GRADO SIN NINGUNA LIMITACION GRAVAMEN \\n\\nPERSONAS QUE INTERVIENEN EN EL ACTO (X-Titular de derecho real de dominio,I-Titular de dominio incompleto) \\n\\nDE: YEPES DE RICAURTE MARIA RUBIELINA  X    \\n\\nDE: YEPES MENESES ALBEIRO  X    \\n\\nDE: YEPES MENESES AMALIA  X    \\n\\nDE: YEPES MENESES ANA MARGOTH  X    \\n\\nDE: YEPES MENESES RODOLFO ARTURO  X    \\n\\nA: BANCO AGRARIO DE COLOMBIA S.A.       \\n \\n\\n \\n\\nSUPERINTENDENCIA DE NOTARIADO Y REGISTRO LA GUARDA DE LA FE PUBLICA OFICINA DE REGISTRO DE INSTRUMENTOS PUBLICOS DE CAJAMARCA ORIP SUPERINTENDENCIA DE NOTARIADO Y REGISTRO LA GUARDA DE LA FE PUBLICA OFICINA DE REGISTRO DE INSTRUMENTOS PUBLICOS DE CAJAMARCA ORIP SUPERINTENDENCIA DE NOTARIADO Y REGISTRO LA GUARDA DE LA FE PUBLICA OFICINA DE REGISTRO DE INSTRUMENTOS PUBLICOS DE CAJAMARCA ORIP SUPERINTENDENCIA DE NOTARIADO Y REGISTRO LA GUARDA DE LA FE PUBLICA OFICINA DE REGISTRO DE INSTRUMENTOS PUBLICOS DE CAJAMARCA ORIP SUPERINTENDENCIA DE NOTARIADO Y REGISTRO LA GUARDA DE LA FE PUBLICA OFICINA DE REGISTRO DE INSTRUMENTOS PUBLICOS DE CAJAMARCA ORIP \\n\\n \\n\\nA', '008 Fecha: 15-05-2007 Radicación: 147\\n\\nDoc: ESCRITURA 1267 DEL 28-04-2007  NOTARIA CUARTA DE IBAGUE VALOR ACTO: $31,833,416 \\nESPECIFICACION: MODO DE ADQUISICION: 0126 COMPRAVENTA TOTAL DERECHO MODO DE ADQUISICION \\nPERSONAS QUE INTERVIENEN EN EL ACTO (X-Titular de derecho real de dominio,I-Titular de dominio incompleto) \\nDE: YEPES MENESES ALBEIRO      \\nA: YEPES DE RICAURTE MARIA RUBIELINA  X    \\nA: YEPES MENESES AMALIA  X    \\nA: YEPES MENESES ANA MARGOTH  X    \\nA: YEPES MENESES RODOLFO ARTURO  X    \\n \\n\\n \\n\\nSUPERINTENDENCIA DE NOTARIADO Y REGISTRO LA GUARDA DE LA FE PUBLICA OFICINA DE REGISTRO DE INSTRUMENTOS PUBLICOS DE CAJAMARCA ORIP SUPERINTENDENCIA DE NOTARIADO Y REGISTRO LA GUARDA DE LA FE PUBLICA OFICINA DE REGISTRO DE INSTRUMENTOS PUBLICOS DE CAJAMARCA ORIP SUPERINTENDENCIA DE NOTARIADO Y REGISTRO LA GUARDA DE LA FE PUBLICA OFICINA DE REGISTRO DE INSTRUMENTOS PUBLICOS DE CAJAMARCA ORIP SUPERINTENDENCIA DE NOTARIADO Y REGISTRO LA GUARDA DE LA FE PUBLICA OFICINA DE REGISTRO DE INSTRUMENTOS PUBLICOS DE CAJAMARCA ORIP SUPERINTENDENCIA DE NOTARIADO Y REGISTRO LA GUARDA DE LA FE PUBLICA OFICINA DE REGISTRO DE INSTRUMENTOS PUBLICOS DE CAJAMARCA ORIP \\n\\n \\n\\nA', '009 Fecha: 16-07-2008 Radicación: 178\\n\\nDoc: ESCRITURA 2237 DEL 15-07-2008  NOTARIA CUARTA DE IBAGUE VALOR ACTO: $ \\n     Se cancela anotación No: 7 \\nESPECIFICACION: CANCELACION: 0775 CANCELACION HIPOTECA  \\nPERSONAS QUE INTERVIENEN EN EL ACTO (X-Titular de derecho real de dominio,I-Titular de dominio incompleto) \\nDE: BANCO AGRARIO DE COLOMBIA S.A.       \\nA: YEPES DE RICAURTE MARIA RUBIELINA  X    \\nA: YEPES MENESES ALBEIRO      \\nA: YEPES MENESES AMALIA  X    \\nA: YEPES MENESES ANA MARGOTH  X    \\nA: YEPES MENESES RODOLFO ARTURO  X    \\n \\n\\n \\n\\nSUPERINTENDENCIA DE NOTARIADO Y REGISTRO LA GUARDA DE LA FE PUBLICA OFICINA DE REGISTRO DE INSTRUMENTOS PUBLICOS DE CAJAMARCA ORIP SUPERINTENDENCIA DE NOTARIADO Y REGISTRO LA GUARDA DE LA FE PUBLICA OFICINA DE REGISTRO DE INSTRUMENTOS PUBLICOS DE CAJAMARCA ORIP SUPERINTENDENCIA DE NOTARIADO Y REGISTRO LA GUARDA DE LA FE PUBLICA OFICINA DE REGISTRO DE INSTRUMENTOS PUBLICOS DE CAJAMARCA ORIP SUPERINTENDENCIA DE NOTARIADO Y REGISTRO LA GUARDA DE LA FE PUBLICA OFICINA DE REGISTRO DE INSTRUMENTOS PUBLICOS DE CAJAMARCA ORIP SUPERINTENDENCIA DE NOTARIADO Y REGISTRO LA GUARDA DE LA FE PUBLICA OFICINA DE REGISTRO DE INSTRUMENTOS PUBLICOS DE CAJAMARCA ORIP \\n\\n \\n\\nA', '010 Fecha: 09-08-2019 Radicación: 2019-354-6-332\\n\\nDoc: ESCRITURA 1609 DEL 01-08-2019 NOTARIA PRIMERA DE IBAGUE VALOR ACTO: $76,000,000 \\nESPECIFICACION: LIMITACION AL DOMINIO: 0307 COMPRAVENTA DERECHOS DE CUOTA  \\nPERSONAS QUE INTERVIENEN EN EL ACTO (X-Titular de derecho real de dominio,I-Titular de dominio incompleto) \\nDE: YEPES MENESES AMALIA  CC# 28545320     \\n\\nOFICINA DE REGISTRO DE INSTRUMENTOS PUBLICOS DE CAJAMARCA\\n\\nCERTIFICADO DE TRADICION\\n\\nMATRICULA INMOBILIARIA\\n\\n\\n\\nLa validez de este documento podrá verificarse en la página www.snrbotondepago.gov.co/certificado/\\n\\nCertificado generado con el Pin No: 200902690133437015 Nro Matrícula: 354-1425\\nPagina 4\\n\\nImpreso el 2 de Septiembre de 2020 a las 11:42:52 AM\\n\\n\"ESTE CERTIFICADO REFLEJA LA SITUACION JURIDICA DEL INMUEBLE\\n\\nHASTA LA FECHA Y HORA DE SU EXPEDICION\" \\n\\nNo tiene validez sin la firma del registrador en la ultima página \\n\\nA: YEPES MENESES ANA MARGOTH  CC# 38218718 X   25% \\n \\n\\n \\n\\nSUPERINTENDENCIA DE NOTARIADO Y REGISTRO LA GUARDA DE LA FE PUBLICA OFICINA DE REGISTRO DE INSTRUMENTOS PUBLICOS DE CAJAMARCA ORIP SUPERINTENDENCIA DE NOTARIADO Y REGISTRO LA GUARDA DE LA FE PUBLICA OFICINA DE REGISTRO DE INSTRUMENTOS PUBLICOS DE CAJAMARCA ORIP SUPERINTENDENCIA DE NOTARIADO Y REGISTRO LA GUARDA DE LA FE PUBLICA OFICINA DE REGISTRO DE INSTRUMENTOS PUBLICOS DE CAJAMARCA ORIP SUPERINTENDENCIA DE NOTARIADO Y REGISTRO LA GUARDA DE LA FE PUBLICA OFICINA DE REGISTRO DE INSTRUMENTOS PUBLICOS DE CAJAMARCA ORIP SUPERINTENDENCIA DE NOTARIADO Y REGISTRO LA GUARDA DE LA FE PUBLICA OFICINA DE REGISTRO DE INSTRUMENTOS PUBLICOS DE CAJAMARCA ORIP \\n\\n \\n\\nA', '011 Fecha: 25-02-2020 Radicación: 2020-354-6-82\\n\\nDoc: ESCRITURA 453 DEL 24-02-2020 NOTARIA QUINTA DE ARMENIA VALOR ACTO: $0 \\nESPECIFICACION: OTRO: 0906 CAMBIO DE NOMBRE MEDIANTE RECTIFICACIÓN DE LA REGISTRADURÍA DEL ESTADO CIVIL DE FECHA  07/09/2001 \\nPERSONAS QUE INTERVIENEN EN EL ACTO (X-Titular de derecho real de dominio,I-Titular de dominio incompleto) \\nA: YEPES MENESES MARIA RUBIELINA C.C 28532861  X    \\n \\n\\n \\n\\nSUPERINTENDENCIA DE NOTARIADO Y REGISTRO LA GUARDA DE LA FE PUBLICA OFICINA DE REGISTRO DE INSTRUMENTOS PUBLICOS DE CAJAMARCA ORIP SUPERINTENDENCIA DE NOTARIADO Y REGISTRO LA GUARDA DE LA FE PUBLICA OFICINA DE REGISTRO DE INSTRUMENTOS PUBLICOS DE CAJAMARCA ORIP SUPERINTENDENCIA DE NOTARIADO Y REGISTRO LA GUARDA DE LA FE PUBLICA OFICINA DE REGISTRO DE INSTRUMENTOS PUBLICOS DE CAJAMARCA ORIP SUPERINTENDENCIA DE NOTARIADO Y REGISTRO LA GUARDA DE LA FE PUBLICA OFICINA DE REGISTRO DE INSTRUMENTOS PUBLICOS DE CAJAMARCA ORIP SUPERINTENDENCIA DE NOTARIADO Y REGISTRO LA GUARDA DE LA FE PUBLICA OFICINA DE REGISTRO DE INSTRUMENTOS PUBLICOS DE CAJAMARCA ORIP \\n\\n \\n\\nA', '012 Fecha: 25-02-2020 Radicación: 2020-354-6-82\\n\\nDoc: ESCRITURA 453 DEL 24-02-2020 NOTARIA QUINTA DE ARMENIA VALOR ACTO: $0 \\nESPECIFICACION: OTRO: 0901 ACLARACION DE LA ESCRITURA N°1267 DEL 28/04/2007 NOTARIA CUARTA DE IBAGUÉ ENCUANTO AL NOMBRE DEL\\n\\nTITULAR DE DERECHO REAL  DE DOMINIO \\nPERSONAS QUE INTERVIENEN EN EL ACTO (X-Titular de derecho real de dominio,I-Titular de dominio incompleto) \\nA: YEPES MENESES MARIA  RUBIELINA  C.C 28532861  X    \\n \\n\\n \\n\\nSUPERINTENDENCIA DE NOTARIADO Y REGISTRO LA GUARDA DE LA FE PUBLICA OFICINA DE REGISTRO DE INSTRUMENTOS PUBLICOS DE CAJAMARCA ORIP SUPERINTENDENCIA DE NOTARIADO Y REGISTRO LA GUARDA DE LA FE PUBLICA OFICINA DE REGISTRO DE INSTRUMENTOS PUBLICOS DE CAJAMARCA ORIP SUPERINTENDENCIA DE NOTARIADO Y REGISTRO LA GUARDA DE LA FE PUBLICA OFICINA DE REGISTRO DE INSTRUMENTOS PUBLICOS DE CAJAMARCA ORIP SUPERINTENDENCIA DE NOTARIADO Y REGISTRO LA GUARDA DE LA FE PUBLICA OFICINA DE REGISTRO DE INSTRUMENTOS PUBLICOS DE CAJAMARCA ORIP SUPERINTENDENCIA DE NOTARIADO Y REGISTRO LA GUARDA DE LA FE PUBLICA OFICINA DE REGISTRO DE INSTRUMENTOS PUBLICOS DE CAJAMARCA ORIP \\n\\n \\n\\nA', '013 Fecha: 25-02-2020 Radicación: 2020-354-6-82\\n\\nDoc: ESCRITURA 453 DEL 24-02-2020 NOTARIA QUINTA DE ARMENIA VALOR ACTO: $3,064,850,000 \\nESPECIFICACION: MODO DE ADQUISICION: 0125 COMPRAVENTA  \\nPERSONAS QUE INTERVIENEN EN EL ACTO (X-Titular de derecho real de dominio,I-Titular de dominio incompleto) \\nDE: YEPES MENESES ANA MARGOTH  CC# 38218718     \\nDE: YEPES MENESES MARIA RUBIELINA C.C 28532861      \\nDE: YEPES MENESES RODOLFO ARTURO  CC# 14243883     \\nA: GREEN SUPERFOOD S.A.S NIT# 9011853125X    \\n \\n\\n \\n\\nSUPERINTENDENCIA DE NOTARIADO Y REGISTRO LA GUARDA DE LA FE PUBLICA OFICINA DE REGISTRO DE INSTRUMENTOS PUBLICOS DE CAJAMARCA ORIP SUPERINTENDENCIA DE NOTARIADO Y REGISTRO LA GUARDA DE LA FE PUBLICA OFICINA DE REGISTRO DE INSTRUMENTOS PUBLICOS DE CAJAMARCA ORIP SUPERINTENDENCIA DE NOTARIADO Y REGISTRO LA GUARDA DE LA FE PUBLICA OFICINA DE REGISTRO DE INSTRUMENTOS PUBLICOS DE CAJAMARCA ORIP SUPERINTENDENCIA DE NOTARIADO Y REGISTRO LA GUARDA DE LA FE PUBLICA OFICINA DE REGISTRO DE INSTRUMENTOS PUBLICOS DE CAJAMARCA ORIP SUPERINTENDENCIA DE NOTARIADO Y REGISTRO LA GUARDA DE LA FE PUBLICA OFICINA DE REGISTRO DE INSTRUMENTOS PUBLICOS DE CAJAMARCA ORIP \\n\\n \\n\\nA', '014 Fecha: 25-02-2020 Radicación: 2020-354-6-82\\n\\nDoc: ESCRITURA 453 DEL 24-02-2020 NOTARIA QUINTA DE ARMENIA VALOR ACTO: $0 \\nESPECIFICACION: LIMITACION AL DOMINIO: 0311 CONDICION RESOLUTORIA EXPRESA  \\nPERSONAS QUE INTERVIENEN EN EL ACTO (X-Titular de derecho real de dominio,I-Titular de dominio incompleto) \\nDE: YEPES MENESES ANA MARGOTH  CC# 38218718     \\nDE: YEPES MENESES MARIA  RUBIELINA C.C 28532861      \\nDE: YEPES MENESES RODOLFO ARTURO  CC# 14243883     \\nA: GREEN SUPERFOOD S.A.S NIT# 9011853125X    \\n \\n\\n \\n\\nSUPERINTENDENCIA DE NOTARIADO Y REGISTRO LA GUARDA DE LA FE PUBLICA OFICINA DE REGISTRO DE INSTRUMENTOS PUBLICOS DE CAJAMARCA ORIP SUPERINTENDENCIA DE NOTARIADO Y REGISTRO LA GUARDA DE LA FE PUBLICA OFICINA DE REGISTRO DE INSTRUMENTOS PUBLICOS DE CAJAMARCA ORIP SUPERINTENDENCIA DE NOTARIADO Y REGISTRO LA GUARDA DE LA FE PUBLICA OFICINA DE REGISTRO DE INSTRUMENTOS PUBLICOS DE CAJAMARCA ORIP SUPERINTENDENCIA DE NOTARIADO Y REGISTRO LA GUARDA DE LA FE PUBLICA OFICINA DE REGISTRO DE INSTRUMENTOS PUBLICOS DE CAJAMARCA ORIP SUPERINTENDENCIA DE NOTARIADO Y REGISTRO LA GUARDA DE LA FE PUBLICA OFICINA DE REGISTRO DE INSTRUMENTOS PUBLICOS DE CAJAMARCA ORIP \\n\\n \\n\\nNRO TOTAL DE ANOTACIONES: *14*\\n \\n\\n \\n\\nSUPERINTENDENCIA DE NOTARIADO Y REGISTRO LA GUARDA DE LA FE PUBLICA OFICINA DE REGISTRO DE INSTRUMENTOS PUBLICOS DE CAJAMARCA ORIP SUPERINTENDENCIA DE NOTARIADO Y REGISTRO LA GUARDA DE LA FE PUBLICA OFICINA DE REGISTRO DE INSTRUMENTOS PUBLICOS DE CAJAMARCA ORIP SUPERINTENDENCIA DE NOTARIADO Y REGISTRO LA GUARDA DE LA FE PUBLICA OFICINA DE REGISTRO DE INSTRUMENTOS PUBLICOS DE CAJAMARCA ORIP SUPERINTENDENCIA DE NOTARIADO Y REGISTRO LA GUARDA DE LA FE PUBLICA OFICINA DE REGISTRO DE INSTRUMENTOS PUBLICOS DE CAJAMARCA ORIP SUPERINTENDENCIA DE NOTARIADO Y REGISTRO LA GUARDA DE LA FE PUBLICA OFICINA DE REGISTRO DE INSTRUMENTOS PUBLICOS DE CAJAMARCA ORIP \\n\\n \\n\\n \\n\\n \\n\\nSUPERINTENDENCIA DE NOTARIADO Y REGISTRO LA GUARDA DE LA FE PUBLICA OFICINA DE REGISTRO DE INSTRUMENTOS PUBLICOS DE CAJAMARCA ORIP SUPERINTENDENCIA DE NOTARIADO Y REGISTRO LA GUARDA DE LA FE PUBLICA OFICINA DE REGISTRO DE INSTRUMENTOS PUBLICOS DE CAJAMARCA ORIP SUPERINTENDENCIA DE NOTARIADO Y REGISTRO LA GUARDA DE LA FE PUBLICA OFICINA DE REGISTRO DE INSTRUMENTOS PUBLICOS DE CAJAMARCA ORIP SUPERINTENDENCIA DE NOTARIADO Y REGISTRO LA GUARDA DE LA FE PUBLICA OFICINA DE REGISTRO DE INSTRUMENTOS PUBLICOS DE CAJAMARCA ORIP SUPERINTENDENCIA DE NOTARIADO Y REGISTRO LA GUARDA DE LA FE PUBLICA OFICINA DE REGISTRO DE INSTRUMENTOS PUBLICOS DE CAJAMARCA ORIP \\n\\n \\n\\nSALVEDADES: (Información Anterior o Corregida)\\n\\nAnotación Nro: 10 Nro corrección: 1 Radicación: 2020-354-3-21 Fecha: 20-02-2020\\n\\nOFICINA DE REGISTRO DE INSTRUMENTOS PUBLICOS DE CAJAMARCA\\n\\nCERTIFICADO DE TRADICION\\n\\nMATRICULA INMOBILIARIA\\n\\n\\n\\nLa validez de este documento podrá verificarse en la página www.snrbotondepago.gov.co/certificado/\\n\\nCertificado generado con el Pin No: 200902690133437015 Nro Matrícula: 354-1425\\nPagina 5\\n\\nImpreso el 2 de Septiembre de 2020 a las 11:42:52 AM\\n\\n\"ESTE CERTIFICADO REFLEJA LA SITUACION JURIDICA DEL INMUEBLE\\n\\nHASTA LA FECHA Y HORA DE SU EXPEDICION\" \\n\\nNo tiene validez sin la firma del registrador en la ultima página \\n\\nQUEDO MAL  DIGITADO EL NOMBRE MARGOT  ES MARGOTH LEY 1579  DE 2012 ART  59 M.C.L.E\\n\\nAnotación Nro: 2 Nro corrección: 1 Radicación: 2020-354-3-22 Fecha: 21-02-2020\\n\\nSE  COLOCO  A  COMO  SE  FUERA TITULAR  BELMER   Y   ERA  VEDEDOR  LEY  1579 DE  2012  ART  59 M.C.L.E\\n\\nAnotación Nro: 0 Nro corrección: 1 Radicación: ICARE-2015 Fecha: 21-12-2015\\n\\nSE INCLUYE NUEVO NUMERO PREDIAL DE 30 DIGITOS SUMINISTRADOS POR EL I.G.A.C. (SNC), RES No. 8589 DE 27-11-2008 PROFERIDA POR LA\\n\\nS.N.R (CONVENIO IGAC-SNR DE 23-09-2008)\\n \\n\\n \\n\\nSUPERINTENDENCIA DE NOTARIADO Y REGISTRO LA GUARDA DE LA FE PUBLICA OFICINA DE REGISTRO DE INSTRUMENTOS PUBLICOS DE CAJAMARCA ORIP SUPERINTENDENCIA DE NOTARIADO Y REGISTRO LA GUARDA DE LA FE PUBLICA OFICINA DE REGISTRO DE INSTRUMENTOS PUBLICOS DE CAJAMARCA ORIP SUPERINTENDENCIA DE NOTARIADO Y REGISTRO LA GUARDA DE LA FE PUBLICA OFICINA DE REGISTRO DE INSTRUMENTOS PUBLICOS DE CAJAMARCA ORIP SUPERINTENDENCIA DE NOTARIADO Y REGISTRO LA GUARDA DE LA FE PUBLICA OFICINA DE REGISTRO DE INSTRUMENTOS PUBLICOS DE CAJAMARCA ORIP SUPERINTENDENCIA DE NOTARIADO Y REGISTRO LA GUARDA DE LA FE PUBLICA OFICINA DE REGISTRO DE INSTRUMENTOS PUBLICOS DE CAJAMARCA ORIP \\n\\n \\n\\n= = = = = = = = = = = = = = = = = = = = = = = = = = = = = = = = = = = = = = = = = = = = = = = = = = = = = = = = = = = = = = = = = = = = = = = = =\\n\\nFIN DE ESTE DOCUMENTO\\n\\nEl interesado debe comunicar al registrador cualquier falla o error en el registro de los documentos\\n\\nUSUARIO: Realtech\\n\\nTURNO: 2020-354-1-2126            FECHA: 02-09-2020\\n\\nEXPEDIDO EN: BOGOTA\\n \\n\\nSUPERINTENDENCIA DE NOTARIADO Y REGISTRO LA GUARDA DE LA FE PUBLICA OFICINA DE REGISTRO DE INSTRUMENTOS PUBLICOS DE CAJAMARCA ORIP  SUPERINTENDENCIA DE NOTARIADO Y REGISTRO LA GUARDA DE LA FE PUBLICA OFICINA DE REGISTRO DE INSTRUMENTOS PUBLICOS DE CAJAMARCA ORIP \\n\\nEl Registrador: MARTHA CECILIA LOPEZ ESPINOSA\\n \\n\\nSUPERINTENDENCIA DE NOTARIADO Y REGISTRO LA GUARDA DE LA FE PUBLICA OFICINA DE REGISTRO DE INSTRUMENTOS PUBLICOS DE CAJAMARCA ORIP  SUPERINTENDENCIA DE NOTARIADO Y REGISTRO LA GUARDA DE LA FE PUBLICA OFICINA DE REGISTRO DE INSTRUMENTOS PUBLICOS DE CAJAMARCA ORIP \\n\\nOFICINA DE REGISTRO DE INSTRUMENTOS PUBLICOS DE CAJAMARCA\\n\\nCERTIFICADO DE TRADICION\\n\\nMATRICULA INMOBILIARIA\\n\\n\\n\\t\\t2020-09-02T11:42:53-0500\\n\\tSUPERINTENDENCIA DE NOTARIADO Y REGISTRO\\n\\n\\n\\n\\n']\n"
          ]
        }
      ]
    },
    {
      "cell_type": "code",
      "metadata": {
        "colab": {
          "base_uri": "https://localhost:8080/"
        },
        "id": "MsE0Xr3VhEhb",
        "outputId": "857a5425-ad2b-4dac-fd82-40892da6b84c"
      },
      "source": [
        "print(len(lista_anotaciones))"
      ],
      "execution_count": null,
      "outputs": [
        {
          "output_type": "stream",
          "name": "stdout",
          "text": [
            "14\n"
          ]
        }
      ]
    },
    {
      "cell_type": "code",
      "metadata": {
        "colab": {
          "base_uri": "https://localhost:8080/"
        },
        "id": "9TOMgOFnhMxL",
        "outputId": "ae89d231-0e88-41db-aa55-73631ec2fdd5"
      },
      "source": [
        "anotaciones = {}\n",
        "for i,anotacion in enumerate(lista_anotaciones):\n",
        "  anotaciones[\"anotacion_%s\" %(i+1)] = {\n",
        "      'documento_anotacion': (re.search('Doc: [A-Za-z0-9 :/-]*',lista_anotaciones[i])[0].split(':',1)[1]).split(' VALOR ACTO: ')[0],\n",
        "      'radicacion_anotacion': re.search('Radicación: [A-Za-z0-9 :/-]*',lista_anotaciones[i])[0].split(':',1)[1].replace(' ',''),\n",
        "      'especificacion_anotacion': (re.search('ESPECIFICACION: [A-Za-z0-9 :/-]*',lista_anotaciones[i])[0].split(':',1)[1])[1:-1],\n",
        "  }\n",
        "print(anotaciones)"
      ],
      "execution_count": null,
      "outputs": [
        {
          "output_type": "stream",
          "name": "stdout",
          "text": [
            "{'anotacion_1': {'documento_anotacion': ' JUICIO DE SUCESION S/N DEL 20-02-1961  JUZGADO PRIMERO CIVIL CTO DE IBAGUE', 'radicacion_anotacion': 'S/N', 'especificacion_anotacion': 'MODO DE ADQUISICION: 150 ADJUDICACION JUICIO SUCESION CON OTROS BIENES MODO DE ADQUISICION'}, 'anotacion_2': {'documento_anotacion': ' ESCRITURA 2050 DEL 24-10-1967  NOTARIA SEGUNDA DE IBAGUE', 'radicacion_anotacion': 'S/N', 'especificacion_anotacion': 'MODO DE ADQUISICION: 106 ADJUDICACION LIQUIDACION DE LA COMUNIDAD MODO DE ADQUISICION'}, 'anotacion_3': {'documento_anotacion': ' ESCRITURA 3176 DEL 31-10-1974  NOTARIA SEGUNDA DE IBAGUE', 'radicacion_anotacion': 'S/N', 'especificacion_anotacion': 'MODO DE ADQUISICION: 101 COMPRAVENTA MODO DE ADQUISICION'}, 'anotacion_4': {'documento_anotacion': ' ESCRITURA 180 DEL 11-09-1976  NOTARIA UNICA DE CAJAMARCA', 'radicacion_anotacion': 'S/N', 'especificacion_anotacion': 'LIMITACION AL DOMINIO: 351 COMPRAVENTA PROINDIVISO MODO DE ADQUISICION'}, 'anotacion_5': {'documento_anotacion': ' OFICIO 1016 DEL 06-09-1988  JUZGADO QUINTO C', 'radicacion_anotacion': '88-479', 'especificacion_anotacion': 'MEDIDA CAUTELAR: 401 EMBARGO MEDIDA CAUTELAR'}, 'anotacion_6': {'documento_anotacion': ' OFICIO 1164 DEL 07-10-1988  JUZGADO QUINTO CIVIL MPAL DE IBAGUE', 'radicacion_anotacion': '88-529', 'especificacion_anotacion': 'CANCELACION: 790 CANCELACION EMBARGO '}, 'anotacion_7': {'documento_anotacion': ' ESCRITURA 281 DEL 24-02-2003  NOTARIA UNICA DE CAJAMARCA', 'radicacion_anotacion': '335', 'especificacion_anotacion': 'GRAVAMEN: 0205 HIPOTECA ABIERTA DE PRIMER GRADO SIN NINGUNA LIMITACION GRAVAMEN'}, 'anotacion_8': {'documento_anotacion': ' ESCRITURA 1267 DEL 28-04-2007  NOTARIA CUARTA DE IBAGUE', 'radicacion_anotacion': '147', 'especificacion_anotacion': 'MODO DE ADQUISICION: 0126 COMPRAVENTA TOTAL DERECHO MODO DE ADQUISICION'}, 'anotacion_9': {'documento_anotacion': ' ESCRITURA 2237 DEL 15-07-2008  NOTARIA CUARTA DE IBAGUE', 'radicacion_anotacion': '178', 'especificacion_anotacion': 'CANCELACION: 0775 CANCELACION HIPOTECA '}, 'anotacion_10': {'documento_anotacion': ' ESCRITURA 1609 DEL 01-08-2019 NOTARIA PRIMERA DE IBAGUE', 'radicacion_anotacion': '2019-354-6-332', 'especificacion_anotacion': 'LIMITACION AL DOMINIO: 0307 COMPRAVENTA DERECHOS DE CUOTA '}, 'anotacion_11': {'documento_anotacion': ' ESCRITURA 453 DEL 24-02-2020 NOTARIA QUINTA DE ARMENIA', 'radicacion_anotacion': '2020-354-6-82', 'especificacion_anotacion': 'OTRO: 0906 CAMBIO DE NOMBRE MEDIANTE RECTIFICAC'}, 'anotacion_12': {'documento_anotacion': ' ESCRITURA 453 DEL 24-02-2020 NOTARIA QUINTA DE ARMENIA', 'radicacion_anotacion': '2020-354-6-82', 'especificacion_anotacion': 'OTRO: 0901 ACLARACION DE LA ESCRITURA '}, 'anotacion_13': {'documento_anotacion': ' ESCRITURA 453 DEL 24-02-2020 NOTARIA QUINTA DE ARMENIA', 'radicacion_anotacion': '2020-354-6-82', 'especificacion_anotacion': 'MODO DE ADQUISICION: 0125 COMPRAVENTA '}, 'anotacion_14': {'documento_anotacion': ' ESCRITURA 453 DEL 24-02-2020 NOTARIA QUINTA DE ARMENIA', 'radicacion_anotacion': '2020-354-6-82', 'especificacion_anotacion': 'LIMITACION AL DOMINIO: 0311 CONDICION RESOLUTORIA EXPRESA '}}\n"
          ]
        }
      ]
    },
    {
      "cell_type": "markdown",
      "metadata": {
        "id": "MjtvKvf4NWh1"
      },
      "source": [
        "## CREACIÓN DEL JSON"
      ]
    },
    {
      "cell_type": "code",
      "metadata": {
        "colab": {
          "base_uri": "https://localhost:8080/"
        },
        "id": "36wF1MVyo4aN",
        "outputId": "8f1cc7b8-7330-42a3-e7e1-f7ce1bcd3ac7"
      },
      "source": [
        "import json\n",
        "\n",
        "json_result = {\n",
        "    \"numero_matricula\": numero_matricula,\n",
        "    \"fecha_impresion\": fecha_impresion,\n",
        "    \"circulo_registral\": circulo_registral,\n",
        "    \"codigo_catastral\": codigo_catastral,\n",
        "    \"estado_folio\": estado_folio,\n",
        "    \"direccion_inmueble\": direccion_inmueble,\n",
        "    \"tipo_predio\": tipo_predio,\n",
        "    \"anotaciones\": anotaciones,\n",
        "}\n",
        "json_result = json.dumps(json_result)\n",
        "print(json_result)\n",
        "#print(json.dumps(json_result, indent=3, sort_keys=True))\n",
        "print(\"tipo de la variable json_result: \",type(json_result))"
      ],
      "execution_count": null,
      "outputs": [
        {
          "output_type": "stream",
          "name": "stdout",
          "text": [
            "{\"numero_matricula\": \"354-1425\", \"fecha_impresion\": \"2 de Septiembre de 2020 a las 11:42:52 AM\", \"circulo_registral\": \"354 - CAJAMARCA  DEPTO: TOLIMA  MUNICIPIO: CAJAMARCA  VEREDA:  ANAIME\", \"codigo_catastral\": \"731240001000000150001000000000COD CATASTRAL ANT: SIN INFORMACION \", \"estado_folio\": \"ACTIVO\", \"direccion_inmueble\": \"\", \"tipo_predio\": \"RURAL\", \"anotaciones\": {\"anotacion_1\": {\"documento_anotacion\": \" JUICIO DE SUCESION S/N DEL 20-02-1961  JUZGADO PRIMERO CIVIL CTO DE IBAGUE\", \"radicacion_anotacion\": \"S/N\", \"especificacion_anotacion\": \"MODO DE ADQUISICION: 150 ADJUDICACION JUICIO SUCESION CON OTROS BIENES MODO DE ADQUISICION\"}, \"anotacion_2\": {\"documento_anotacion\": \" ESCRITURA 2050 DEL 24-10-1967  NOTARIA SEGUNDA DE IBAGUE\", \"radicacion_anotacion\": \"S/N\", \"especificacion_anotacion\": \"MODO DE ADQUISICION: 106 ADJUDICACION LIQUIDACION DE LA COMUNIDAD MODO DE ADQUISICION\"}, \"anotacion_3\": {\"documento_anotacion\": \" ESCRITURA 3176 DEL 31-10-1974  NOTARIA SEGUNDA DE IBAGUE\", \"radicacion_anotacion\": \"S/N\", \"especificacion_anotacion\": \"MODO DE ADQUISICION: 101 COMPRAVENTA MODO DE ADQUISICION\"}, \"anotacion_4\": {\"documento_anotacion\": \" ESCRITURA 180 DEL 11-09-1976  NOTARIA UNICA DE CAJAMARCA\", \"radicacion_anotacion\": \"S/N\", \"especificacion_anotacion\": \"LIMITACION AL DOMINIO: 351 COMPRAVENTA PROINDIVISO MODO DE ADQUISICION\"}, \"anotacion_5\": {\"documento_anotacion\": \" OFICIO 1016 DEL 06-09-1988  JUZGADO QUINTO C\", \"radicacion_anotacion\": \"88-479\", \"especificacion_anotacion\": \"MEDIDA CAUTELAR: 401 EMBARGO MEDIDA CAUTELAR\"}, \"anotacion_6\": {\"documento_anotacion\": \" OFICIO 1164 DEL 07-10-1988  JUZGADO QUINTO CIVIL MPAL DE IBAGUE\", \"radicacion_anotacion\": \"88-529\", \"especificacion_anotacion\": \"CANCELACION: 790 CANCELACION EMBARGO \"}, \"anotacion_7\": {\"documento_anotacion\": \" ESCRITURA 281 DEL 24-02-2003  NOTARIA UNICA DE CAJAMARCA\", \"radicacion_anotacion\": \"335\", \"especificacion_anotacion\": \"GRAVAMEN: 0205 HIPOTECA ABIERTA DE PRIMER GRADO SIN NINGUNA LIMITACION GRAVAMEN\"}, \"anotacion_8\": {\"documento_anotacion\": \" ESCRITURA 1267 DEL 28-04-2007  NOTARIA CUARTA DE IBAGUE\", \"radicacion_anotacion\": \"147\", \"especificacion_anotacion\": \"MODO DE ADQUISICION: 0126 COMPRAVENTA TOTAL DERECHO MODO DE ADQUISICION\"}, \"anotacion_9\": {\"documento_anotacion\": \" ESCRITURA 2237 DEL 15-07-2008  NOTARIA CUARTA DE IBAGUE\", \"radicacion_anotacion\": \"178\", \"especificacion_anotacion\": \"CANCELACION: 0775 CANCELACION HIPOTECA \"}, \"anotacion_10\": {\"documento_anotacion\": \" ESCRITURA 1609 DEL 01-08-2019 NOTARIA PRIMERA DE IBAGUE\", \"radicacion_anotacion\": \"2019-354-6-332\", \"especificacion_anotacion\": \"LIMITACION AL DOMINIO: 0307 COMPRAVENTA DERECHOS DE CUOTA \"}, \"anotacion_11\": {\"documento_anotacion\": \" ESCRITURA 453 DEL 24-02-2020 NOTARIA QUINTA DE ARMENIA\", \"radicacion_anotacion\": \"2020-354-6-82\", \"especificacion_anotacion\": \"OTRO: 0906 CAMBIO DE NOMBRE MEDIANTE RECTIFICAC\"}, \"anotacion_12\": {\"documento_anotacion\": \" ESCRITURA 453 DEL 24-02-2020 NOTARIA QUINTA DE ARMENIA\", \"radicacion_anotacion\": \"2020-354-6-82\", \"especificacion_anotacion\": \"OTRO: 0901 ACLARACION DE LA ESCRITURA \"}, \"anotacion_13\": {\"documento_anotacion\": \" ESCRITURA 453 DEL 24-02-2020 NOTARIA QUINTA DE ARMENIA\", \"radicacion_anotacion\": \"2020-354-6-82\", \"especificacion_anotacion\": \"MODO DE ADQUISICION: 0125 COMPRAVENTA \"}, \"anotacion_14\": {\"documento_anotacion\": \" ESCRITURA 453 DEL 24-02-2020 NOTARIA QUINTA DE ARMENIA\", \"radicacion_anotacion\": \"2020-354-6-82\", \"especificacion_anotacion\": \"LIMITACION AL DOMINIO: 0311 CONDICION RESOLUTORIA EXPRESA \"}}}\n",
            "tipo de la variable json_result:  <class 'str'>\n"
          ]
        }
      ]
    },
    {
      "cell_type": "code",
      "metadata": {
        "id": "suPV8dnaNQMd"
      },
      "source": [
        ""
      ],
      "execution_count": null,
      "outputs": []
    }
  ]
}